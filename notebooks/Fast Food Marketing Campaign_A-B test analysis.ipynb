{
 "cells": [
  {
   "cell_type": "markdown",
   "metadata": {},
   "source": [
    "# Analysis of the Fast Food Marketing Campaign A/B Test dataset"
   ]
  },
  {
   "cell_type": "markdown",
   "metadata": {},
   "source": [
    "### **Table of contents**<a id='toc0_'></a>    \n",
    "- 1. [Introduction](#toc1_)    \n",
    "- 2. [Data preparation](#toc2_)    \n",
    "  - 2.1. [Downloading the dataset and reviewing meta data](#toc2_1_)    \n",
    "  - 2.2. [Loading the data](#toc2_2_)    \n",
    "- 3. [Data cleaning](#toc3_)    \n",
    "  - 3.1. [Setting data types](#toc3_1_)    \n",
    "  - 3.2. [Describing the data](#toc3_2_)    \n",
    "  - 3.3. [Handling missing values](#toc3_3_)    \n",
    "  - 3.4. [Deduplication process](#toc3_4_)    \n",
    "  - 3.5. [Outliers: identification and handling](#toc3_5_)    \n",
    "    - 3.5.1. [Rule-based method](#toc3_5_1_)    \n",
    "    - 3.5.2. [Statistical outliers](#toc3_5_2_)    \n",
    "- 4. [A/B testing](#toc4_)    \n",
    "  - 4.1. [Mission/Goal definition](#toc4_1_)    \n",
    "  - 4.2. [Metrics definition](#toc4_2_)    \n",
    "  - 4.3. [Calculations](#toc4_3_)    \n",
    "    - 4.3.1. [Cumulative Sales per Store](#toc4_3_1_)    \n",
    "    - 4.3.2. [Additional thoughts on Market Size](#toc4_3_2_)    \n",
    "    - 4.3.3. [Sanity Check](#toc4_3_3_)    \n",
    "    - 4.3.4. [Average cumulative Sales per Promotion](#toc4_3_4_)    \n",
    "    - 4.3.5. [Differences in average cumulative Sales](#toc4_3_5_)    \n",
    "  - 4.4. [Results and Decisions](#toc4_4_)    \n",
    "- 5. [Dashboard](#toc5_)    \n",
    "\n",
    "<!-- vscode-jupyter-toc-config\n",
    "\tnumbering=true\n",
    "\tanchor=true\n",
    "\tflat=false\n",
    "\tminLevel=2\n",
    "\tmaxLevel=6\n",
    "\t/vscode-jupyter-toc-config -->\n",
    "<!-- THIS CELL WILL BE REPLACED ON TOC UPDATE. DO NOT WRITE YOUR TEXT IN THIS CELL -->"
   ]
  },
  {
   "cell_type": "markdown",
   "metadata": {},
   "source": [
    "## 1. <a id='toc1_'></a>[Introduction](#toc0_)"
   ]
  },
  {
   "cell_type": "markdown",
   "metadata": {},
   "source": [
    "This project aims to assess the effectiveness of three distinct marketing promotions for a new menu item at a fast-food chain. By implementing an A/B testing approach across several randomly selected market locations, the study evaluates the impact of each promotion on weekly sales over a four-week period. The primary objective is to determine which promotional strategy yields the highest average cumulative sales. Through statistical analysis, including the calculation of median differences and bootstrapped confidence intervals, the findings will guide the fast-food chain in selecting the most effective marketing campaign, ultimately driving sales and enhancing customer engagement with the new product."
   ]
  },
  {
   "cell_type": "markdown",
   "metadata": {},
   "source": [
    "## 2. <a id='toc2_'></a>[Data preparation](#toc0_)"
   ]
  },
  {
   "cell_type": "markdown",
   "metadata": {},
   "source": [
    "Import necessary libraries:"
   ]
  },
  {
   "cell_type": "code",
   "execution_count": 1,
   "metadata": {},
   "outputs": [],
   "source": [
    "import sys\n",
    "import os\n",
    "import matplotlib.pyplot as plt\n",
    "import numpy as np\n",
    "import pandas as pd\n",
    "import scipy.stats as stats\n",
    "import scikit_posthocs as sp\n",
    "import seaborn as sns"
   ]
  },
  {
   "cell_type": "markdown",
   "metadata": {},
   "source": [
    "Hide warnings within jupyter notebook outputs:"
   ]
  },
  {
   "cell_type": "code",
   "execution_count": 2,
   "metadata": {},
   "outputs": [],
   "source": [
    "{\n",
    "    \"tags\": [\n",
    "        \"hide-input\",\n",
    "    ]\n",
    "}\n",
    "import warnings\n",
    "\n",
    "warnings.simplefilter(\"ignore\")"
   ]
  },
  {
   "cell_type": "markdown",
   "metadata": {},
   "source": [
    "### 2.1. <a id='toc2_1_'></a>[Downloading the dataset and reviewing meta data](#toc0_)"
   ]
  },
  {
   "cell_type": "markdown",
   "metadata": {},
   "source": [
    "Download the Fast Food Marketing Campaign A\\B Test dataset [here](https://www.kaggle.com/datasets/chebotinaa/fast-food-marketing-campaign-ab-test)."
   ]
  },
  {
   "cell_type": "markdown",
   "metadata": {},
   "source": [
    "**Meta data** for the dataset:"
   ]
  },
  {
   "cell_type": "markdown",
   "metadata": {},
   "source": [
    "***Context***\n",
    "\n",
    "**Scenario**\n",
    "\n",
    "A fast-food chain plans to add a new item to its menu. However, they are still undecided between three possible marketing campaigns for promoting the new product. In order to determine which promotion has the greatest effect on sales, the new item is introduced at locations in several randomly selected markets. A different promotion is used at each location, and the weekly sales of the new item are recorded for the first four weeks.\n",
    "\n",
    "**Goal**\n",
    "\n",
    "Evaluate A/B testing results and decide which marketing strategy works the best."
   ]
  },
  {
   "cell_type": "markdown",
   "metadata": {},
   "source": [
    "***Content***\n",
    "\n",
    "There are a total of 7 variables/columns and 548 entries in this dataset. The detailed description of features/columns:\n",
    "\n",
    "**MarketID**: unique identifier for market\n",
    "\n",
    "**MarketSize**: size of market area by sales\n",
    "\n",
    "**LocationID**: unique identifier for store location\n",
    "\n",
    "**AgeOfStore**: age of store in years\n",
    "\n",
    "**Promotion**: one of three promotions that were tested\n",
    "\n",
    "**week**: one of four weeks when the promotions were run\n",
    "\n",
    "**SalesInThousands**: sales amount for a specific LocationID, Promotion, and week"
   ]
  },
  {
   "cell_type": "markdown",
   "metadata": {},
   "source": [
    "### 2.2. <a id='toc2_2_'></a>[Loading the data](#toc0_)"
   ]
  },
  {
   "cell_type": "code",
   "execution_count": 3,
   "metadata": {},
   "outputs": [
    {
     "data": {
      "text/plain": [
       "(548, 7)"
      ]
     },
     "execution_count": 3,
     "metadata": {},
     "output_type": "execute_result"
    }
   ],
   "source": [
    "df_orig = pd.read_csv(\"../data/WA_Marketing-Campaign.csv\")\n",
    "df = df_orig\n",
    "df.shape"
   ]
  },
  {
   "cell_type": "markdown",
   "metadata": {},
   "source": [
    "The dataset consists of 548 rows/datapoints and 7 columns/features.\n",
    "Below we can get a quick look on the first 5 records and the columns:"
   ]
  },
  {
   "cell_type": "code",
   "execution_count": 4,
   "metadata": {},
   "outputs": [
    {
     "data": {
      "text/html": [
       "<div>\n",
       "<style scoped>\n",
       "    .dataframe tbody tr th:only-of-type {\n",
       "        vertical-align: middle;\n",
       "    }\n",
       "\n",
       "    .dataframe tbody tr th {\n",
       "        vertical-align: top;\n",
       "    }\n",
       "\n",
       "    .dataframe thead th {\n",
       "        text-align: right;\n",
       "    }\n",
       "</style>\n",
       "<table border=\"1\" class=\"dataframe\">\n",
       "  <thead>\n",
       "    <tr style=\"text-align: right;\">\n",
       "      <th></th>\n",
       "      <th>MarketID</th>\n",
       "      <th>MarketSize</th>\n",
       "      <th>LocationID</th>\n",
       "      <th>AgeOfStore</th>\n",
       "      <th>Promotion</th>\n",
       "      <th>week</th>\n",
       "      <th>SalesInThousands</th>\n",
       "    </tr>\n",
       "  </thead>\n",
       "  <tbody>\n",
       "    <tr>\n",
       "      <th>0</th>\n",
       "      <td>1</td>\n",
       "      <td>Medium</td>\n",
       "      <td>1</td>\n",
       "      <td>4</td>\n",
       "      <td>3</td>\n",
       "      <td>1</td>\n",
       "      <td>33.73</td>\n",
       "    </tr>\n",
       "    <tr>\n",
       "      <th>1</th>\n",
       "      <td>1</td>\n",
       "      <td>Medium</td>\n",
       "      <td>1</td>\n",
       "      <td>4</td>\n",
       "      <td>3</td>\n",
       "      <td>2</td>\n",
       "      <td>35.67</td>\n",
       "    </tr>\n",
       "    <tr>\n",
       "      <th>2</th>\n",
       "      <td>1</td>\n",
       "      <td>Medium</td>\n",
       "      <td>1</td>\n",
       "      <td>4</td>\n",
       "      <td>3</td>\n",
       "      <td>3</td>\n",
       "      <td>29.03</td>\n",
       "    </tr>\n",
       "    <tr>\n",
       "      <th>3</th>\n",
       "      <td>1</td>\n",
       "      <td>Medium</td>\n",
       "      <td>1</td>\n",
       "      <td>4</td>\n",
       "      <td>3</td>\n",
       "      <td>4</td>\n",
       "      <td>39.25</td>\n",
       "    </tr>\n",
       "    <tr>\n",
       "      <th>4</th>\n",
       "      <td>1</td>\n",
       "      <td>Medium</td>\n",
       "      <td>2</td>\n",
       "      <td>5</td>\n",
       "      <td>2</td>\n",
       "      <td>1</td>\n",
       "      <td>27.81</td>\n",
       "    </tr>\n",
       "  </tbody>\n",
       "</table>\n",
       "</div>"
      ],
      "text/plain": [
       "   MarketID MarketSize  LocationID  AgeOfStore  Promotion  week  \\\n",
       "0         1     Medium           1           4          3     1   \n",
       "1         1     Medium           1           4          3     2   \n",
       "2         1     Medium           1           4          3     3   \n",
       "3         1     Medium           1           4          3     4   \n",
       "4         1     Medium           2           5          2     1   \n",
       "\n",
       "   SalesInThousands  \n",
       "0             33.73  \n",
       "1             35.67  \n",
       "2             29.03  \n",
       "3             39.25  \n",
       "4             27.81  "
      ]
     },
     "execution_count": 4,
     "metadata": {},
     "output_type": "execute_result"
    }
   ],
   "source": [
    "df.sort_index().head()"
   ]
  },
  {
   "cell_type": "markdown",
   "metadata": {},
   "source": [
    "## 3. <a id='toc3_'></a>[Data cleaning](#toc0_)"
   ]
  },
  {
   "cell_type": "markdown",
   "metadata": {},
   "source": [
    "Before analysing the data, the data cleansing process must deal with setting the data type, handling missing values, deduplicating samples and characteristics and identifying and processing outliers."
   ]
  },
  {
   "cell_type": "markdown",
   "metadata": {},
   "source": [
    "### 3.1. <a id='toc3_1_'></a>[Setting data types](#toc0_)"
   ]
  },
  {
   "cell_type": "code",
   "execution_count": 5,
   "metadata": {},
   "outputs": [
    {
     "name": "stdout",
     "output_type": "stream",
     "text": [
      "<class 'pandas.core.frame.DataFrame'>\n",
      "RangeIndex: 548 entries, 0 to 547\n",
      "Data columns (total 7 columns):\n",
      " #   Column            Non-Null Count  Dtype  \n",
      "---  ------            --------------  -----  \n",
      " 0   MarketID          548 non-null    int64  \n",
      " 1   MarketSize        548 non-null    object \n",
      " 2   LocationID        548 non-null    int64  \n",
      " 3   AgeOfStore        548 non-null    int64  \n",
      " 4   Promotion         548 non-null    int64  \n",
      " 5   week              548 non-null    int64  \n",
      " 6   SalesInThousands  548 non-null    float64\n",
      "dtypes: float64(1), int64(5), object(1)\n",
      "memory usage: 30.1+ KB\n"
     ]
    }
   ],
   "source": [
    "df.info()"
   ]
  },
  {
   "cell_type": "markdown",
   "metadata": {},
   "source": [
    "The columns *MarketSize* and *Promotion* can be of data type `category` since they consist of a distinct list of categories (see below). \n",
    "\n",
    "The column *MarketSize* even follows an ordinal scale of size: *Small* < *Medium* < *Large*.\n"
   ]
  },
  {
   "cell_type": "code",
   "execution_count": 6,
   "metadata": {},
   "outputs": [
    {
     "name": "stdout",
     "output_type": "stream",
     "text": [
      "MarketSize\n",
      "Medium    320\n",
      "Large     168\n",
      "Small      60\n",
      "Name: count, dtype: int64\n",
      "\n",
      "Promotion\n",
      "3    188\n",
      "2    188\n",
      "1    172\n",
      "Name: count, dtype: int64\n"
     ]
    }
   ],
   "source": [
    "print(df[\"MarketSize\"].value_counts())\n",
    "print()\n",
    "print(df[\"Promotion\"].value_counts())"
   ]
  },
  {
   "cell_type": "markdown",
   "metadata": {},
   "source": [
    "Consequently columns *course_Certificate_type* and *course_difficulty* are set as data type `category`:"
   ]
  },
  {
   "cell_type": "code",
   "execution_count": 7,
   "metadata": {},
   "outputs": [],
   "source": [
    "df[\"Promotion\"] = df[\"Promotion\"].astype(\"category\")\n",
    "df[\"MarketSize\"] = pd.Categorical(\n",
    "    df[\"MarketSize\"], categories=[\"Small\", \"Medium\", \"Large\"], ordered=True\n",
    ")"
   ]
  },
  {
   "cell_type": "code",
   "execution_count": 8,
   "metadata": {},
   "outputs": [
    {
     "data": {
      "text/plain": [
       "CategoricalDtype(categories=['Small', 'Medium', 'Large'], ordered=True, categories_dtype=object)"
      ]
     },
     "execution_count": 8,
     "metadata": {},
     "output_type": "execute_result"
    }
   ],
   "source": [
    "df[\"MarketSize\"].dtype"
   ]
  },
  {
   "cell_type": "markdown",
   "metadata": {},
   "source": [
    "Column *SalesInThousands* should be typical a numerical variable indicating the true sales value, therefore we create a new column `Sales`:"
   ]
  },
  {
   "cell_type": "code",
   "execution_count": 9,
   "metadata": {},
   "outputs": [],
   "source": [
    "df[\"Sales\"] = df[\"SalesInThousands\"] * 1_000"
   ]
  },
  {
   "cell_type": "code",
   "execution_count": 10,
   "metadata": {},
   "outputs": [
    {
     "data": {
      "text/plain": [
       "count      548.000000\n",
       "mean     53466.204380\n",
       "std      16755.215822\n",
       "min      17340.000000\n",
       "25%      42545.000000\n",
       "50%      50200.000000\n",
       "75%      60477.500000\n",
       "max      99650.000000\n",
       "Name: Sales, dtype: float64"
      ]
     },
     "execution_count": 10,
     "metadata": {},
     "output_type": "execute_result"
    }
   ],
   "source": [
    "df[\"Sales\"].describe()"
   ]
  },
  {
   "cell_type": "markdown",
   "metadata": {},
   "source": [
    "### 3.2. <a id='toc3_2_'></a>[Describing the data](#toc0_)"
   ]
  },
  {
   "cell_type": "code",
   "execution_count": 11,
   "metadata": {},
   "outputs": [
    {
     "data": {
      "text/plain": [
       "137"
      ]
     },
     "execution_count": 11,
     "metadata": {},
     "output_type": "execute_result"
    }
   ],
   "source": [
    "df[\"LocationID\"].nunique()"
   ]
  },
  {
   "cell_type": "markdown",
   "metadata": {},
   "source": [
    "There are 137 unique fast-food chain locations in the dataset. For each of the locations 4 datapoints representing the 4 weeks of the running promotion campaign:"
   ]
  },
  {
   "cell_type": "code",
   "execution_count": 12,
   "metadata": {},
   "outputs": [
    {
     "data": {
      "text/plain": [
       "week\n",
       "1    137\n",
       "2    137\n",
       "3    137\n",
       "4    137\n",
       "Name: count, dtype: int64"
      ]
     },
     "execution_count": 12,
     "metadata": {},
     "output_type": "execute_result"
    }
   ],
   "source": [
    "df[\"week\"].value_counts()"
   ]
  },
  {
   "cell_type": "markdown",
   "metadata": {},
   "source": [
    "Thus we have 548 datapoints. The three different promotions are unequally distributed across the locations, which has to be taken into account for further analysis:"
   ]
  },
  {
   "cell_type": "code",
   "execution_count": 13,
   "metadata": {},
   "outputs": [
    {
     "data": {
      "text/plain": [
       "Promotion\n",
       "1    43\n",
       "2    47\n",
       "3    47\n",
       "Name: LocationID, dtype: int64"
      ]
     },
     "execution_count": 13,
     "metadata": {},
     "output_type": "execute_result"
    }
   ],
   "source": [
    "df.groupby(\"Promotion\", observed=False)[\"LocationID\"].nunique()"
   ]
  },
  {
   "cell_type": "markdown",
   "metadata": {},
   "source": [
    "Promotion campaign \"1\" ran in 43 locations only, while campaign \"2\" and \"3\" ran in 47 locations each."
   ]
  },
  {
   "cell_type": "markdown",
   "metadata": {},
   "source": [
    "10 markets were randomly selected, in which the following number of locations are situated:"
   ]
  },
  {
   "cell_type": "code",
   "execution_count": 14,
   "metadata": {},
   "outputs": [
    {
     "data": {
      "text/plain": [
       "MarketID\n",
       "1     13\n",
       "2      6\n",
       "3     22\n",
       "4      9\n",
       "5     15\n",
       "6     15\n",
       "7     15\n",
       "8     12\n",
       "9     10\n",
       "10    20\n",
       "Name: LocationID, dtype: int64"
      ]
     },
     "execution_count": 14,
     "metadata": {},
     "output_type": "execute_result"
    }
   ],
   "source": [
    "df.groupby(\"MarketID\", observed=False)[\"LocationID\"].nunique()"
   ]
  },
  {
   "cell_type": "markdown",
   "metadata": {},
   "source": [
    "Each market (`MarketID`) has one particular `MarketSize`:"
   ]
  },
  {
   "cell_type": "code",
   "execution_count": 15,
   "metadata": {},
   "outputs": [
    {
     "data": {
      "text/html": [
       "<div>\n",
       "<style scoped>\n",
       "    .dataframe tbody tr th:only-of-type {\n",
       "        vertical-align: middle;\n",
       "    }\n",
       "\n",
       "    .dataframe tbody tr th {\n",
       "        vertical-align: top;\n",
       "    }\n",
       "\n",
       "    .dataframe thead th {\n",
       "        text-align: right;\n",
       "    }\n",
       "</style>\n",
       "<table border=\"1\" class=\"dataframe\">\n",
       "  <thead>\n",
       "    <tr style=\"text-align: right;\">\n",
       "      <th>MarketSize</th>\n",
       "      <th>Small</th>\n",
       "      <th>Medium</th>\n",
       "      <th>Large</th>\n",
       "    </tr>\n",
       "    <tr>\n",
       "      <th>MarketID</th>\n",
       "      <th></th>\n",
       "      <th></th>\n",
       "      <th></th>\n",
       "    </tr>\n",
       "  </thead>\n",
       "  <tbody>\n",
       "    <tr>\n",
       "      <th>1</th>\n",
       "      <td>0.0</td>\n",
       "      <td>13.0</td>\n",
       "      <td>0.0</td>\n",
       "    </tr>\n",
       "    <tr>\n",
       "      <th>2</th>\n",
       "      <td>6.0</td>\n",
       "      <td>0.0</td>\n",
       "      <td>0.0</td>\n",
       "    </tr>\n",
       "    <tr>\n",
       "      <th>3</th>\n",
       "      <td>0.0</td>\n",
       "      <td>0.0</td>\n",
       "      <td>22.0</td>\n",
       "    </tr>\n",
       "    <tr>\n",
       "      <th>4</th>\n",
       "      <td>9.0</td>\n",
       "      <td>0.0</td>\n",
       "      <td>0.0</td>\n",
       "    </tr>\n",
       "    <tr>\n",
       "      <th>5</th>\n",
       "      <td>0.0</td>\n",
       "      <td>15.0</td>\n",
       "      <td>0.0</td>\n",
       "    </tr>\n",
       "    <tr>\n",
       "      <th>6</th>\n",
       "      <td>0.0</td>\n",
       "      <td>15.0</td>\n",
       "      <td>0.0</td>\n",
       "    </tr>\n",
       "    <tr>\n",
       "      <th>7</th>\n",
       "      <td>0.0</td>\n",
       "      <td>15.0</td>\n",
       "      <td>0.0</td>\n",
       "    </tr>\n",
       "    <tr>\n",
       "      <th>8</th>\n",
       "      <td>0.0</td>\n",
       "      <td>12.0</td>\n",
       "      <td>0.0</td>\n",
       "    </tr>\n",
       "    <tr>\n",
       "      <th>9</th>\n",
       "      <td>0.0</td>\n",
       "      <td>10.0</td>\n",
       "      <td>0.0</td>\n",
       "    </tr>\n",
       "    <tr>\n",
       "      <th>10</th>\n",
       "      <td>0.0</td>\n",
       "      <td>0.0</td>\n",
       "      <td>20.0</td>\n",
       "    </tr>\n",
       "  </tbody>\n",
       "</table>\n",
       "</div>"
      ],
      "text/plain": [
       "MarketSize  Small  Medium  Large\n",
       "MarketID                        \n",
       "1             0.0    13.0    0.0\n",
       "2             6.0     0.0    0.0\n",
       "3             0.0     0.0   22.0\n",
       "4             9.0     0.0    0.0\n",
       "5             0.0    15.0    0.0\n",
       "6             0.0    15.0    0.0\n",
       "7             0.0    15.0    0.0\n",
       "8             0.0    12.0    0.0\n",
       "9             0.0    10.0    0.0\n",
       "10            0.0     0.0   20.0"
      ]
     },
     "execution_count": 15,
     "metadata": {},
     "output_type": "execute_result"
    }
   ],
   "source": [
    "pd.crosstab(df[\"MarketID\"], df[\"MarketSize\"]) / 4"
   ]
  },
  {
   "cell_type": "markdown",
   "metadata": {},
   "source": [
    "The promotions should be assigned to the locations randomly. We want to see how the distribution of `MarketSize` is for each promotion:"
   ]
  },
  {
   "cell_type": "code",
   "execution_count": 16,
   "metadata": {},
   "outputs": [
    {
     "data": {
      "text/html": [
       "<div>\n",
       "<style scoped>\n",
       "    .dataframe tbody tr th:only-of-type {\n",
       "        vertical-align: middle;\n",
       "    }\n",
       "\n",
       "    .dataframe tbody tr th {\n",
       "        vertical-align: top;\n",
       "    }\n",
       "\n",
       "    .dataframe thead th {\n",
       "        text-align: right;\n",
       "    }\n",
       "</style>\n",
       "<table border=\"1\" class=\"dataframe\">\n",
       "  <thead>\n",
       "    <tr style=\"text-align: right;\">\n",
       "      <th>MarketSize</th>\n",
       "      <th>Small</th>\n",
       "      <th>Medium</th>\n",
       "      <th>Large</th>\n",
       "      <th>Total</th>\n",
       "    </tr>\n",
       "    <tr>\n",
       "      <th>Promotion</th>\n",
       "      <th></th>\n",
       "      <th></th>\n",
       "      <th></th>\n",
       "      <th></th>\n",
       "    </tr>\n",
       "  </thead>\n",
       "  <tbody>\n",
       "    <tr>\n",
       "      <th>1</th>\n",
       "      <td>5.0</td>\n",
       "      <td>24.0</td>\n",
       "      <td>14.0</td>\n",
       "      <td>43.0</td>\n",
       "    </tr>\n",
       "    <tr>\n",
       "      <th>2</th>\n",
       "      <td>4.0</td>\n",
       "      <td>27.0</td>\n",
       "      <td>16.0</td>\n",
       "      <td>47.0</td>\n",
       "    </tr>\n",
       "    <tr>\n",
       "      <th>3</th>\n",
       "      <td>6.0</td>\n",
       "      <td>29.0</td>\n",
       "      <td>12.0</td>\n",
       "      <td>47.0</td>\n",
       "    </tr>\n",
       "    <tr>\n",
       "      <th>Total</th>\n",
       "      <td>15.0</td>\n",
       "      <td>80.0</td>\n",
       "      <td>42.0</td>\n",
       "      <td>137.0</td>\n",
       "    </tr>\n",
       "  </tbody>\n",
       "</table>\n",
       "</div>"
      ],
      "text/plain": [
       "MarketSize  Small  Medium  Large  Total\n",
       "Promotion                              \n",
       "1             5.0    24.0   14.0   43.0\n",
       "2             4.0    27.0   16.0   47.0\n",
       "3             6.0    29.0   12.0   47.0\n",
       "Total        15.0    80.0   42.0  137.0"
      ]
     },
     "execution_count": 16,
     "metadata": {},
     "output_type": "execute_result"
    }
   ],
   "source": [
    "pd.crosstab(df[\"Promotion\"], df[\"MarketSize\"], margins=True, margins_name=\"Total\") / 4"
   ]
  },
  {
   "cell_type": "markdown",
   "metadata": {},
   "source": [
    "In fact the promotions are rather similarly assinged to locations in particularly sized markets. However, promotion number 3 has less locations in the large market and promotion number 1 has less locations in total."
   ]
  },
  {
   "cell_type": "markdown",
   "metadata": {},
   "source": [
    "The fastfood chain stores (locations) are between 1 and 28 years old, on average around 8.5 years:"
   ]
  },
  {
   "cell_type": "code",
   "execution_count": 17,
   "metadata": {},
   "outputs": [
    {
     "data": {
      "text/plain": [
       "count    548.000000\n",
       "mean       8.503650\n",
       "std        6.638345\n",
       "min        1.000000\n",
       "25%        4.000000\n",
       "50%        7.000000\n",
       "75%       12.000000\n",
       "max       28.000000\n",
       "Name: AgeOfStore, dtype: float64"
      ]
     },
     "execution_count": 17,
     "metadata": {},
     "output_type": "execute_result"
    }
   ],
   "source": [
    "df[\"AgeOfStore\"].describe()"
   ]
  },
  {
   "cell_type": "markdown",
   "metadata": {},
   "source": [
    "### 3.3. <a id='toc3_3_'></a>[Handling missing values](#toc0_)"
   ]
  },
  {
   "cell_type": "markdown",
   "metadata": {},
   "source": [
    "No missing values were detected (see 3.1), thus no handling is required."
   ]
  },
  {
   "cell_type": "markdown",
   "metadata": {},
   "source": [
    "### 3.4. <a id='toc3_4_'></a>[Deduplication process](#toc0_)"
   ]
  },
  {
   "cell_type": "markdown",
   "metadata": {},
   "source": [
    "Looking at the distribution of variables/columns above already revealed that there are only unique records. We can confirm it once more as following:"
   ]
  },
  {
   "cell_type": "code",
   "execution_count": 18,
   "metadata": {},
   "outputs": [
    {
     "data": {
      "text/plain": [
       "False    548\n",
       "Name: count, dtype: int64"
      ]
     },
     "execution_count": 18,
     "metadata": {},
     "output_type": "execute_result"
    }
   ],
   "source": [
    "df.duplicated().value_counts()"
   ]
  },
  {
   "cell_type": "markdown",
   "metadata": {},
   "source": [
    "Thus, no further deduplication is required."
   ]
  },
  {
   "cell_type": "markdown",
   "metadata": {},
   "source": [
    "### 3.5. <a id='toc3_5_'></a>[Outliers: identification and handling](#toc0_)"
   ]
  },
  {
   "cell_type": "markdown",
   "metadata": {},
   "source": [
    "Identifying outliers in the data follows a three step plan:\n",
    "1) Using data visualization techniques to inspect the data’s distribution and verify the presence of outliers\n",
    "2) Using a statistical method to calculate the outlier data points\n",
    "3) Applying a statistical method to flag, drop or transform the outliers\n",
    "\n",
    "Moreover, a two-level approach is applied to check both types of outliers, *natural* and *anomalous*: the rule-based method and the statistical approach. "
   ]
  },
  {
   "cell_type": "markdown",
   "metadata": {},
   "source": [
    "#### 3.5.1. <a id='toc3_5_1_'></a>[Rule-based method](#toc0_)"
   ]
  },
  {
   "cell_type": "markdown",
   "metadata": {},
   "source": [
    "The decribed variables/columns did not reveal any unreasonable values."
   ]
  },
  {
   "cell_type": "markdown",
   "metadata": {},
   "source": [
    "#### 3.5.2. <a id='toc3_5_2_'></a>[Statistical outliers](#toc0_)"
   ]
  },
  {
   "cell_type": "markdown",
   "metadata": {},
   "source": [
    "As next, the `Sales` feature is visualized (via boxplot and histogram) to detect possible outliers:"
   ]
  },
  {
   "cell_type": "code",
   "execution_count": 19,
   "metadata": {},
   "outputs": [
    {
     "data": {
      "image/png": "[encoded data removed]",
      "text/plain": [
       "<Figure size 640x480 with 2 Axes>"
      ]
     },
     "metadata": {},
     "output_type": "display_data"
    }
   ],
   "source": [
    "f, (ax_box, ax_hist) = plt.subplots(\n",
    "    2, sharex=True, gridspec_kw={\"height_ratios\": (0.20, 0.80)}\n",
    ")\n",
    "\n",
    "sns.boxplot(x=df[\"Sales\"], ax=ax_box)\n",
    "sns.histplot(x=df[\"Sales\"], bins=50, ax=ax_hist)\n",
    "\n",
    "ax_box.set(yticks=[])\n",
    "ax_hist.set_ylabel(\"Locations / Stores\", labelpad=10)\n",
    "ax_hist.set_xlabel(\"Sales\", labelpad=10)\n",
    "ax_box.set_title(r\"Histogram plot of $\\it{Sales}$ (incl. box plot)\", pad=20)\n",
    "sns.despine(ax=ax_hist)\n",
    "sns.despine(ax=ax_box, left=True)\n",
    "plt.subplots_adjust(hspace=0.05)\n",
    "plt.show()"
   ]
  },
  {
   "cell_type": "markdown",
   "metadata": {},
   "source": [
    "We can see from the histogram above that there are two, rather normally distributed subsets of data, because there are clearly two peaks/modes in the histogram visible. This consquently leads to a detection of outliers at the right as seen in the boxplot. \n",
    "\n",
    "This can be the effect of the promotion, but I can also highlight differences in the market size. We want to go further into the A/B testing in the next chapter, so we will skip particular analysis of weeks here. But we can quickly show multiple histograms by market size:"
   ]
  },
  {
   "cell_type": "code",
   "execution_count": 20,
   "metadata": {},
   "outputs": [
    {
     "data": {
      "image/png": "[encoded data removed]",
      "text/plain": [
       "<Figure size 1200x400 with 3 Axes>"
      ]
     },
     "metadata": {},
     "output_type": "display_data"
    }
   ],
   "source": [
    "categories = df[\"MarketSize\"].sort_values().unique()\n",
    "\n",
    "fig, axes = plt.subplots(1, 3, figsize=(12, 4), sharey=True)\n",
    "fig.suptitle(\"Sales Distribution by Market Size\")\n",
    "\n",
    "for ax, category in zip(axes, categories):\n",
    "    subset = df[df[\"MarketSize\"] == category]\n",
    "    ax.hist(subset[\"Sales\"], bins=40, alpha=0.7)\n",
    "    ax.set_title(f\"MarketSize: {category}\")\n",
    "    ax.set_xlabel(\"Sales\")\n",
    "    ax.set_yticks(range(0, 19, 2))\n",
    "plt.tight_layout(rect=[0, 0, 1, 0.96])\n",
    "plt.show()"
   ]
  },
  {
   "cell_type": "markdown",
   "metadata": {},
   "source": [
    "The plots above suggest that particularly in the **Large Market** we see a bi-modal distribution. This can indicate that we see either a strong movement of the sales in time (weeks), e.g. through one or more promotion campaigns, or another factor divides the locations in this particular market into two groups. Further analysis, e.g. the A/B testing can give us more clarification on that."
   ]
  },
  {
   "cell_type": "markdown",
   "metadata": {},
   "source": [
    "As a consequence of this brief analysis, we did not detect any statistical outliers that have to be excluded from the dataset."
   ]
  },
  {
   "cell_type": "markdown",
   "metadata": {},
   "source": [
    "## 4. <a id='toc4_'></a>[A/B testing](#toc0_)"
   ]
  },
  {
   "cell_type": "markdown",
   "metadata": {},
   "source": [
    "### 4.1. <a id='toc4_1_'></a>[Mission/Goal definition](#toc0_)"
   ]
  },
  {
   "cell_type": "markdown",
   "metadata": {},
   "source": [
    "Based on the dataset description, the fast-food chain plans to add a new item to its menu but is undecided between three possible marketing campaigns for promoting the new product. Therefore the new item is introduced at random locations and different promotion is used at each location. Moreover the weekly sales of the new item are recorded for the first four weeks. Therefore the mission/goal of the A/B test is ***to determine which promotion has the greatest effect on sales***."
   ]
  },
  {
   "cell_type": "markdown",
   "metadata": {},
   "source": [
    "### 4.2. <a id='toc4_2_'></a>[Metrics definition](#toc0_)"
   ]
  },
  {
   "cell_type": "markdown",
   "metadata": {},
   "source": [
    "The test can be understood as an A/B/C test, as it aims to compare the resulting average cumulative sales across three different promotions. A typical effect of marketing promotions cannot be measured here, as there is no control group (e.g., locations where the new item is introduced but not promoted). Instead, we utilize the sales figures themselves as a measure of success.\n",
    "\n",
    "**Cumulative sales**, which sum the weekly sales over a 4-week period, provide a comprehensive measure of each promotion's overall effectiveness. This metric reflects the total impact over time, capturing both initial spikes and slower growth phases. Consequently, it serves as a reliable indicator of each promotion’s long-term success in driving sales, aligning with the primary goal of this test.\n",
    "\n",
    "To analyze the **average cumulative sales**, we account for differences across locations within the same group of promotions, which may stem from market size or other unknown factors (see also 4.3.2). The metric selected for calculating the average is the *median*, due to the underlying non-standard distribution of the data.\n",
    "\n",
    "To assess not only the existence of differences between average cumulative sales but also the specific effects on sales (estimated treatment effect) for each promotion, we focus on the **differences** across the promotions.\n",
    "\n",
    "Therefore, the target metric for this analysis is the ***difference in average cumulative sales across promotions***.\n",
    "\n"
   ]
  },
  {
   "cell_type": "markdown",
   "metadata": {},
   "source": [
    "### 4.3. <a id='toc4_3_'></a>[Calculations](#toc0_)"
   ]
  },
  {
   "cell_type": "markdown",
   "metadata": {},
   "source": [
    "#### 4.3.1. <a id='toc4_3_1_'></a>[Cumulative Sales per Store](#toc0_)"
   ]
  },
  {
   "cell_type": "markdown",
   "metadata": {},
   "source": [
    "Firstly we need to calculate the Cumulative Sales per Store:"
   ]
  },
  {
   "cell_type": "code",
   "execution_count": null,
   "metadata": {},
   "outputs": [],
   "source": [
    "df_cum_sales = (\n",
    "    df.groupby(\"LocationID\")\n",
    "    .agg({\"Sales\": \"sum\", \"MarketSize\": \"first\", \"Promotion\": \"first\"})\n",
    "    .reset_index()\n",
    ")\n",
    "df_cum_sales.rename(columns={\"Sales\": \"Cumulative_Sales\"}, inplace=True)"
   ]
  },
  {
   "cell_type": "markdown",
   "metadata": {},
   "source": [
    "Then we want to plot the distribution of the cumulative sales across the three promotions:"
   ]
  },
  {
   "cell_type": "code",
   "execution_count": null,
   "metadata": {},
   "outputs": [],
   "source": [
    "categories = df_cum_sales[\"Promotion\"].sort_values().unique()\n",
    "\n",
    "fig, axes = plt.subplots(1, 3, figsize=(8, 3), sharey=True, sharex=True)\n",
    "fig.suptitle(\"Cumulative Sales Distribution by Promotion\")\n",
    "\n",
    "for ax, category in zip(axes, categories):\n",
    "    subset = df_cum_sales[df_cum_sales[\"Promotion\"] == category]\n",
    "    ax.hist(subset[\"Cumulative_Sales\"], bins=60, alpha=0.7)\n",
    "    ax.set_title(f\"Promotion: {category}\")\n",
    "    ax.set_xlabel(\"Cumulative_Sales\")\n",
    "    ax.set_yticks(range(0, 7, 1))\n",
    "plt.tight_layout(rect=[0, 0, 1, 0.96])\n",
    "plt.show()"
   ]
  },
  {
   "cell_type": "markdown",
   "metadata": {},
   "source": [
    "We can see that each of the plots have a second cluster of locations on the right side, indicating multiple locations for each promotion that have higher cumulative sales than the majority of locations. This could be influenced by the market size which we want to have a brief look at in the next subchapter."
   ]
  },
  {
   "cell_type": "markdown",
   "metadata": {},
   "source": [
    "The Q-Q Plots below highlight once more these described second clusters on the upper tail. All three distributions do not follow a normal distribution as would datapoints closer to the red line had suggested:"
   ]
  },
  {
   "cell_type": "code",
   "execution_count": null,
   "metadata": {},
   "outputs": [],
   "source": [
    "promotions = df_cum_sales[\"Promotion\"].unique()\n",
    "fig, axes = plt.subplots(1, len(promotions), figsize=(8, 3), sharey=True)\n",
    "fig.suptitle(\"Q-Q Plots of Cumulative Sales for Each Promotion\")\n",
    "\n",
    "for i, promotion in enumerate(promotions):\n",
    "    ax = axes[i]\n",
    "    subset = df_cum_sales[df_cum_sales[\"Promotion\"] == promotion][\"Cumulative_Sales\"]\n",
    "    stats.probplot(subset, dist=\"norm\", plot=ax)\n",
    "    ax.set_title(f\"Promotion: {promotion}\")\n",
    "    ax.get_lines()[1].set_color(\"red\")\n",
    "    ax.set_xlabel(\"Theoretical Quantiles\")\n",
    "    ax.set_ylabel(\"Sample Quantiles\")\n",
    "\n",
    "plt.tight_layout(rect=[0, 0, 1, 0.96])\n",
    "plt.show()"
   ]
  },
  {
   "cell_type": "markdown",
   "metadata": {},
   "source": [
    "#### 4.3.2. <a id='toc4_3_2_'></a>[Additional thoughts on Market Size](#toc0_)"
   ]
  },
  {
   "cell_type": "markdown",
   "metadata": {},
   "source": [
    "We want to see in a boxplot graph how for each promotion the cumulative sales is distributed across the three market sizes:"
   ]
  },
  {
   "cell_type": "code",
   "execution_count": null,
   "metadata": {},
   "outputs": [],
   "source": [
    "plt.figure(figsize=(8, 4))\n",
    "sns.boxplot(\n",
    "    data=df_cum_sales,\n",
    "    x=\"Promotion\",\n",
    "    y=\"Cumulative_Sales\",\n",
    "    hue=\"MarketSize\",\n",
    "    palette=\"Set2\",\n",
    ")\n",
    "\n",
    "plt.title(\"Cumulative Sales Distribution by Promotion and Market Size\")\n",
    "plt.xlabel(\"Promotion\")\n",
    "plt.ylabel(\"Cumulative Sales\")\n",
    "\n",
    "plt.legend(title=\"Market Size\")\n",
    "plt.tight_layout()\n",
    "plt.show()"
   ]
  },
  {
   "cell_type": "markdown",
   "metadata": {},
   "source": [
    "We see that for each promotion the locations from large markets tend to have higher cumulative sales. Since market size appears to influence the promotion impact, comparing promotions within each market size would give a clearer picture of which promotion works best for a given context. This way, you can see if one promotion consistently performs well across market sizes or if certain promotions are more effective for specific market sizes. It could also help in identifying any size-specific trends that may inform future targeting strategies.\n",
    "\n",
    "However, the small sample size sets us limitations:"
   ]
  },
  {
   "cell_type": "code",
   "execution_count": null,
   "metadata": {},
   "outputs": [],
   "source": [
    "pd.crosstab(df_cum_sales[\"MarketSize\"], df_cum_sales[\"Promotion\"])"
   ]
  },
  {
   "cell_type": "markdown",
   "metadata": {},
   "source": [
    "As we can see in the two-way table above the observed locations are scarce for the Small Market locations and also not very numerous for the Large  Market locations. This can produce problems when calculating a test statistic comparing the three promotions for each market.\n",
    "\n",
    "Bootstrapping could assist us further here. But we want to keep it simple this time and neglect a deeper analysis on Market Size for now."
   ]
  },
  {
   "cell_type": "markdown",
   "metadata": {},
   "source": [
    "#### 4.3.3. <a id='toc4_3_3_'></a>[Sanity Check](#toc0_)"
   ]
  },
  {
   "cell_type": "code",
   "execution_count": null,
   "metadata": {},
   "outputs": [],
   "source": [
    "observed_counts = df_cum_sales[\"Promotion\"].value_counts()\n",
    "observed_counts"
   ]
  },
  {
   "cell_type": "markdown",
   "metadata": {},
   "source": [
    " - Sample size: The sample size of the experiment is the sum of three variants, thus the 137 observations (locations/stores)\n",
    " - Variant proportions: The variants of the three treatment groups (Promotion 1,2,3) are rather equal, however we want to do a sanity check on the population sizing metric"
   ]
  },
  {
   "cell_type": "markdown",
   "metadata": {},
   "source": [
    "The Chi-square test is widely used for testing the sample sizes on Sample Ratio Mismatch (SRM), because it works well for categorical data with expected counts across multiple groups and is straightforward when comparing observed vs. expected distributions:\n"
   ]
  },
  {
   "cell_type": "code",
   "execution_count": null,
   "metadata": {},
   "outputs": [],
   "source": [
    "total_players = sum(observed_counts)\n",
    "expected_counts = [total_players / 3, total_players / 3, total_players / 3]\n",
    "\n",
    "chi2_stat, p_value = stats.chisquare(observed_counts, expected_counts)\n",
    "\n",
    "print(f\"Chi-square statistic: {chi2_stat:.04f}\")\n",
    "print(f\"P-value: {p_value:.04f}\")"
   ]
  },
  {
   "cell_type": "markdown",
   "metadata": {},
   "source": [
    "The high p-value of 0.8898 shows that we cannot reject the null-hypothesis that there is a significant difference in the sample sizes across the three promotion groups. Therefore we can proceed with our analysis."
   ]
  },
  {
   "cell_type": "markdown",
   "metadata": {},
   "source": [
    "#### 4.3.4. <a id='toc4_3_4_'></a>[Average cumulative Sales and Hypothesis test](#toc0_)"
   ]
  },
  {
   "cell_type": "code",
   "execution_count": null,
   "metadata": {},
   "outputs": [],
   "source": [
    "df_cum_sales.groupby(\"Promotion\")[\"Cumulative_Sales\"].describe()"
   ]
  },
  {
   "cell_type": "markdown",
   "metadata": {},
   "source": [
    "We can see from the descriptive statistics above multiple information:\n",
    " - Promotion 2 has the lowest min, max, mean and median values and is therefore the least successful promotion\n",
    " - Promotion 1 has the highest min, max, mean and median values and is therefore the most successful promotion"
   ]
  },
  {
   "cell_type": "markdown",
   "metadata": {},
   "source": [
    "The following boxplot summarizes once more the distribution of cumulative Sales per Promotion:"
   ]
  },
  {
   "cell_type": "code",
   "execution_count": null,
   "metadata": {},
   "outputs": [],
   "source": [
    "plt.figure(figsize=(5, 3))\n",
    "sns.boxplot(data=df_cum_sales, x=\"Promotion\", y=\"Cumulative_Sales\", palette=\"Set2\")\n",
    "\n",
    "plt.title(\"Cumulative Sales Distribution by Promotion\")\n",
    "plt.xlabel(\"Promotion\")\n",
    "plt.ylabel(\"Cumulative Sales\")\n",
    "plt.tight_layout()\n",
    "plt.show()"
   ]
  },
  {
   "cell_type": "markdown",
   "metadata": {},
   "source": [
    "As seen in 4.3.1. (Histograms and Q-Q plots) the cumulative sales is not normally distributed for the three promotions. Therefore we should avoid using the *mean* for the calculation of the average cumulative sales and use instead the **median**: \n"
   ]
  },
  {
   "cell_type": "code",
   "execution_count": null,
   "metadata": {},
   "outputs": [],
   "source": [
    "median_sales = df_cum_sales.groupby(\"Promotion\")[\"Cumulative_Sales\"].median()\n",
    "median_sales"
   ]
  },
  {
   "cell_type": "markdown",
   "metadata": {},
   "source": [
    "The average cumulative sales across the 4 weeks of promotion for a single location is the lowest for Promotion 2, with 186.620. Promotion 1 has the highest average cumulative sales per location with 224.300. This is roughly 20% more than Promotion 2. Promotion 3 lies with 199.410 somewhat in between both."
   ]
  },
  {
   "cell_type": "markdown",
   "metadata": {},
   "source": [
    "\n",
    "We want to compare all three average cumulative sales metrics and test if these stated median differences (estimated treatment effect) differ also statistically significantly from each other. The *one-way ANOVA (Analysis of Variance)*, which is designed to compare the means across three or more groups, cannot be used, since normal distribution is a prerequirement for this test. Instead, we can use the non-parametric alternative to the ANOVA, the **Kruskal-Wallis H test**. This test is suitable when comparing the medians of three or more independent groups without assuming normality:"
   ]
  },
  {
   "cell_type": "code",
   "execution_count": null,
   "metadata": {},
   "outputs": [],
   "source": [
    "groups = [\n",
    "    df_cum_sales[df_cum_sales[\"Promotion\"] == promo][\"Cumulative_Sales\"]\n",
    "    for promo in promotions\n",
    "]\n",
    "stat, p_value = stats.kruskal(*groups)\n",
    "print(f\"Kruskal-Wallis H Test: H-statistic = {stat:.04f}, p-value = {p_value:.04f}\")"
   ]
  },
  {
   "cell_type": "markdown",
   "metadata": {},
   "source": [
    "The resulting low ***p-value*** of 0.0002 suggests significant differences between the promotions."
   ]
  },
  {
   "cell_type": "markdown",
   "metadata": {},
   "source": [
    "We follow up with post hoc tests to show if the comparison holds between each of the three promotions. We use the Conover's Test which is non-parametric and adjusts for multiple comparisons. This approach allows us to make pairwise comparisons while accounting for the fact that our data does not conform to the assumptions required for parametric tests. The p-values are adjusted for multiple comparisons using the Bonferroni method. The results of Conover's test provide insights into the effectiveness of different promotions:\n"
   ]
  },
  {
   "cell_type": "code",
   "execution_count": null,
   "metadata": {},
   "outputs": [],
   "source": [
    "conover_results = sp.posthoc_conover(\n",
    "    df_cum_sales,\n",
    "    val_col=\"Cumulative_Sales\",\n",
    "    group_col=\"Promotion\",\n",
    "    p_adjust=\"bonferroni\",\n",
    ")\n",
    "print(conover_results)"
   ]
  },
  {
   "cell_type": "markdown",
   "metadata": {},
   "source": [
    "We see that the ***adjusted p-values*** are low (<0.05) when comparing promotion 2 with the promotions 1 (0.0001) and 3 (0.0077). On the other hand, promotions 1 and 3 (0.6114) do not differ significantly in terms of average cumulative sales."
   ]
  },
  {
   "cell_type": "markdown",
   "metadata": {},
   "source": [
    "#### 4.3.5. <a id='toc4_3_5_'></a>[Effect size: Differences in average cumulative Sales](#toc0_)"
   ]
  },
  {
   "cell_type": "markdown",
   "metadata": {},
   "source": [
    "Below we can show the estimated treatment effect or ***effect size*** in form of the **median difference** between the three promotions:"
   ]
  },
  {
   "cell_type": "code",
   "execution_count": null,
   "metadata": {},
   "outputs": [],
   "source": [
    "promotions = median_sales.index.tolist()\n",
    "for i in range(len(promotions)):\n",
    "    for j in range(i + 1, len(promotions)):\n",
    "        promo_a = promotions[i]\n",
    "        promo_b = promotions[j]\n",
    "        difference = median_sales[promo_a] - median_sales[promo_b]\n",
    "        print(f\"{promo_a} vs {promo_b}: {difference:.0f}\")"
   ]
  },
  {
   "cell_type": "markdown",
   "metadata": {},
   "source": [
    "Therefore, Promotion 1 is by 37.680 (average cumulative sales) more effective than Promotion 2, and by 24.890 (average cumulative sales) more effective than Promotion 3.\n",
    "Promotion 3 is by 12.790 more effective than Promotion 2. We've seen in 4.3.3. that the difference between Promotion 1 and 3 is not significant, while the other two differences withstand the signficance test."
   ]
  },
  {
   "cell_type": "markdown",
   "metadata": {},
   "source": [
    "When dealing with non-parametric data, calculating **confidence intervals** for medians or median differences can be a bit tricky since typical methods assume normality. *Analytical Methods* are limited and often rely on large sample sizes for normal approximation. A common approach to calculate a confidence interval is to use bootstrapping, which involves resampling your data with replacement and computing the median differences from these resamples. **Bootstrapping** allows for the empirical assessment of the distribution of differences without making strong parametric assumptions.\n",
    "\n"
   ]
  },
  {
   "cell_type": "code",
   "execution_count": null,
   "metadata": {},
   "outputs": [],
   "source": [
    "sys.path.append(os.path.abspath(\"..\"))\n",
    "from custom_modules.bootstrapping import bootstrap_median_difference\n",
    "\n",
    "median_diffs = []\n",
    "ci_bounds = []\n",
    "promo_pairs = []\n",
    "for i in range(len(promotions)):\n",
    "    for j in range(i + 1, len(promotions)):\n",
    "        promo_a = promotions[i]\n",
    "        promo_b = promotions[j]\n",
    "        data_a = df_cum_sales[df_cum_sales[\"Promotion\"] == promo_a][\"Cumulative_Sales\"]\n",
    "        data_b = df_cum_sales[df_cum_sales[\"Promotion\"] == promo_b][\"Cumulative_Sales\"]\n",
    "        median_diff = np.median(data_a) - np.median(data_b)\n",
    "        ci_diff = bootstrap_median_difference(data_a, data_b)\n",
    "        start, end = ci_diff\n",
    "        median_diffs.append(median_diff)\n",
    "        ci_bounds.append(ci_diff)\n",
    "        promo_pairs.append((promo_a, promo_b, ci_diff, median_diff))\n",
    "\n",
    "for promo_a, promo_b, ci_diff, median_diff in promo_pairs:\n",
    "    start, end = ci_diff\n",
    "    print(\n",
    "        f\"{promo_a} vs {promo_b}: median={median_diff:.0f} with bootstrapped CI between {start:.0f} and {end:.0f}\"\n",
    "    )"
   ]
  },
  {
   "cell_type": "markdown",
   "metadata": {},
   "source": [
    "From the bootstrapped confidence intervalls above we can see why the difference between Promotion 1 vs. 3 is not significant: It covers also the value of zero. \n",
    "\n",
    "The calculated median differences from above fit very well into these confidence intervalls.\n",
    "\n",
    "\n"
   ]
  },
  {
   "cell_type": "markdown",
   "metadata": {},
   "source": [
    "### 4.4. <a id='toc4_4_'></a>[Results and Decisions](#toc0_)"
   ]
  },
  {
   "cell_type": "markdown",
   "metadata": {},
   "source": [
    "The question *which promotion has the greatest effect on sales* can be answered looking at the visualization of the key metric of the *differences in average cumulative sales* between the three promotions:"
   ]
  },
  {
   "cell_type": "code",
   "execution_count": null,
   "metadata": {},
   "outputs": [],
   "source": [
    "labels = [\n",
    "    f\"{promotions[i]} vs {promotions[j]}\"\n",
    "    for i in range(len(promotions))\n",
    "    for j in range(i + 1, len(promotions))\n",
    "]\n",
    "median_diffs = np.array(median_diffs)\n",
    "lower_bounds = np.array([ci[0] for ci in ci_bounds])\n",
    "upper_bounds = np.array([ci[1] for ci in ci_bounds])\n",
    "\n",
    "plt.figure(figsize=(6, 4))\n",
    "bars = plt.bar(\n",
    "    labels,\n",
    "    median_diffs,\n",
    "    yerr=[median_diffs - lower_bounds, upper_bounds - median_diffs],\n",
    "    capsize=5,\n",
    "    color=[\"royalblue\", \"lightsteelblue\", \"cornflowerblue\"],\n",
    ")\n",
    "\n",
    "plt.axhline(0, color=\"gray\", linestyle=\"--\", linewidth=0.8)\n",
    "plt.xlabel(\"Promotion pairs\")\n",
    "plt.ylabel(\"Median Difference of Cumulative Sales\")\n",
    "plt.title(\"Median Differences Between Promotions with Bootstrapped CIs\", pad=15)\n",
    "for spine in plt.gca().spines.values():\n",
    "    spine.set_visible(False)\n",
    "plt.yticks([])\n",
    "for bar, median, ci in zip(bars, median_diffs, ci_bounds):\n",
    "    yval = bar.get_height()\n",
    "    plt.text(\n",
    "        bar.get_x() + bar.get_width() / 1.8,\n",
    "        yval,\n",
    "        f\"{median:,.0f}\",\n",
    "        ha=\"left\",\n",
    "        va=\"bottom\",\n",
    "        fontsize=10,\n",
    "        fontweight=\"bold\",\n",
    "    )\n",
    "    plt.text(\n",
    "        bar.get_x() + bar.get_width() / 2.3,\n",
    "        yval,\n",
    "        f\"({ci[0]:,.0f},\\n {ci[1]:,.0f})\",\n",
    "        ha=\"right\",\n",
    "        va=\"top\",\n",
    "        fontsize=9,\n",
    "    )\n",
    "\n",
    "plt.tight_layout()\n",
    "plt.show()"
   ]
  },
  {
   "cell_type": "markdown",
   "metadata": {},
   "source": [
    "Pomotion 1 promised with the highest average cumulative sales that it is the most effective promotion. The differences between the median average cumulative sales of all three promotions are plotted above. It shows that Promotion 1 has an average cumulative sales that is 37.680 higher than Promotion 2, which is also statistically significant. There is also a higher average cumulative sales than Promotion 3, but it is not statistically signficant. The bootstrapped Confidence Intervalls confirm the significant differences.\n",
    "\n",
    "As a result we can say that Promotions 1 is the most effective promotion but it is not statistically significantly more effective than Promotion 3."
   ]
  },
  {
   "cell_type": "markdown",
   "metadata": {},
   "source": [
    "Therefore Promotion 1 is the prefered method to promot the newly introduced item. Promotion 3 is the second best promotion, signficiantly more effective than Promotion 2. The latter must be avoided.\n",
    "\n",
    "As shown in 4.3.2. there are clear differences between the effectiveness of the Promotions across the three Market Sizes. However, the brief look into the distribution of average cumulative sales suggest that Promotion 1 is still the most prefered promotion. Further analysis could be done to confirm this assumption. The bootstrapping method could be used to deal with small sample sizes when evaluating the Promotions across the three Market Sizes. "
   ]
  },
  {
   "cell_type": "markdown",
   "metadata": {},
   "source": [
    "## 5. <a id='toc5_'></a>[Dashboard](#toc0_)"
   ]
  },
  {
   "cell_type": "markdown",
   "metadata": {},
   "source": [
    "The dashboard on **Sales Metrics for New Item Promotions** is available [here](https://lookerstudio.google.com/reporting/2963e7f0-3892-40cc-a343-32ebf5ee1bdd). Since the A/B test metric used in this analysis is the ***difference in average cumulative sales across promotions*** but the dashboard must show metric movement over time (based on weeks), another metric was chosen. \n",
    "\n",
    "The dashboard shows the impact of the three promotions as the **average (median) sales per store** across the four weeks in a *line chart*. While particular promotions or weeks can be selected, the graph can also be filtered additionally by the market size where locations are situated in. Moreover, two *scorecards* show the **cumulative total sales**and the **average (median) sales per store** of the current selection."
   ]
  }
 ],
 "metadata": {
  "kernelspec": {
   "display_name": "ab_test_venv",
   "language": "python",
   "name": "python3"
  },
  "language_info": {
   "codemirror_mode": {
    "name": "ipython",
    "version": 3
   },
   "file_extension": ".py",
   "mimetype": "text/x-python",
   "name": "python",
   "nbconvert_exporter": "python",
   "pygments_lexer": "ipython3",
   "version": "3.12.4"
  }
 },
 "nbformat": 4,
 "nbformat_minor": 2
}
