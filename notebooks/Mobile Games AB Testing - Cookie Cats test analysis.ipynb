{
 "cells": [
  {
   "cell_type": "markdown",
   "metadata": {},
   "source": [
    "# Analysis of the Mobile Games A/B Testing - Cookie Cats dataset"
   ]
  },
  {
   "cell_type": "markdown",
   "metadata": {},
   "source": [
    "### **Table of contents**<a id='toc0_'></a>    \n",
    "- 1. [Introduction](#toc1_)    \n",
    "- 2. [Data preparation](#toc2_)    \n",
    "  - 2.1. [Downloading the dataset and reviewing meta data](#toc2_1_)    \n",
    "  - 2.2. [Loading the data](#toc2_2_)    \n",
    "- 3. [Data cleaning](#toc3_)    \n",
    "  - 3.1. [Setting data types](#toc3_1_)    \n",
    "  - 3.2. [Describing the data](#toc3_2_)    \n",
    "  - 3.3. [Handling missing values](#toc3_3_)    \n",
    "  - 3.4. [Deduplication process](#toc3_4_)    \n",
    "  - 3.5. [Outliers: identification and handling](#toc3_5_)    \n",
    "    - 3.5.1. [Rule-based method](#toc3_5_1_)    \n",
    "    - 3.5.2. [Statistical outliers](#toc3_5_2_)    \n",
    "- 4. [A/B testing](#toc4_)    \n",
    "  - 4.1. [Mission/Goal definition](#toc4_1_)    \n",
    "  - 4.2. [Metrics definition](#toc4_2_)    \n",
    "  - 4.3. [Calculations](#toc4_3_)    \n",
    "    - 4.3.1. [Sanity check](#toc4_3_1_)    \n",
    "    - 4.3.2. [Retention for 1 day](#toc4_3_2_)    \n",
    "      - 4.3.2.1. [Proportion and Confidence interval](#toc4_3_2_1_)    \n",
    "      - 4.3.2.2. [Hypothesis test and Effect size](#toc4_3_2_2_)    \n",
    "    - 4.3.3. [Retention for 7 days](#toc4_3_3_)    \n",
    "      - 4.3.3.1. [Proportion and Confidence interval](#toc4_3_3_1_)    \n",
    "      - 4.3.3.2. [Additional task: Bootstrap Confidence interval](#toc4_3_3_2_)    \n",
    "      - 4.3.3.3. [Hypothesis test and Effect size](#toc4_3_3_3_)    \n",
    "  - 4.4. [Results and Decisions](#toc4_4_)    \n",
    "\n",
    "<!-- vscode-jupyter-toc-config\n",
    "\tnumbering=true\n",
    "\tanchor=true\n",
    "\tflat=false\n",
    "\tminLevel=2\n",
    "\tmaxLevel=6\n",
    "\t/vscode-jupyter-toc-config -->\n",
    "<!-- THIS CELL WILL BE REPLACED ON TOC UPDATE. DO NOT WRITE YOUR TEXT IN THIS CELL -->"
   ]
  },
  {
   "cell_type": "markdown",
   "metadata": {},
   "source": [
    "## 1. <a id='toc1_'></a>[Introduction](#toc0_)"
   ]
  },
  {
   "cell_type": "markdown",
   "metadata": {},
   "source": [
    "This project analyzes the impact of a game design change on user retention rates in the mobile game Cookie Cats. Specifically, it examines the effects of relocating the first gate in the game from level 30 to level 40 through an A/B testing approach. The goal was to assess how this change influenced player retention after Day 1 and Day 7 post-installation."
   ]
  },
  {
   "cell_type": "markdown",
   "metadata": {},
   "source": [
    "## 2. <a id='toc2_'></a>[Data preparation](#toc0_)"
   ]
  },
  {
   "cell_type": "markdown",
   "metadata": {},
   "source": [
    "Import necessary libraries:"
   ]
  },
  {
   "cell_type": "code",
   "execution_count": 1,
   "metadata": {},
   "outputs": [],
   "source": [
    "import sys\n",
    "import os\n",
    "import matplotlib.pyplot as plt\n",
    "import numpy as np\n",
    "import pandas as pd\n",
    "import scipy.stats as stats\n",
    "import seaborn as sns"
   ]
  },
  {
   "cell_type": "markdown",
   "metadata": {},
   "source": [
    "Hide warnings within jupyter notebook outputs:"
   ]
  },
  {
   "cell_type": "code",
   "execution_count": 2,
   "metadata": {},
   "outputs": [],
   "source": [
    "{\n",
    "    \"tags\": [\n",
    "        \"hide-input\",\n",
    "    ]\n",
    "}\n",
    "import warnings\n",
    "\n",
    "warnings.simplefilter(\"ignore\")"
   ]
  },
  {
   "cell_type": "markdown",
   "metadata": {},
   "source": [
    "### 2.1. <a id='toc2_1_'></a>[Downloading the dataset and reviewing meta data](#toc0_)"
   ]
  },
  {
   "cell_type": "markdown",
   "metadata": {},
   "source": [
    "Download the Mobile Games A/B Testing - Cookie Cats [here](https://www.kaggle.com/datasets/mursideyarkin/mobile-games-ab-testing-cookie-cats)."
   ]
  },
  {
   "cell_type": "markdown",
   "metadata": {},
   "source": [
    "**Meta data** for the dataset:"
   ]
  },
  {
   "cell_type": "markdown",
   "metadata": {},
   "source": [
    "***Context***\n",
    "\n",
    "This dataset includes A/B test results of Cookie Cats to examine what happens when the first gate in the game was moved from level 30 to level 40. When a player installed the game, he or she was randomly assigned to either gate_30 or gate_40."
   ]
  },
  {
   "cell_type": "markdown",
   "metadata": {},
   "source": [
    "***Content***\n",
    "\n",
    "The data we have is from 90,189 players that installed the game while the AB-test was running. The variables are:\n",
    "\n",
    "**userid**: A unique number that identifies each player.\n",
    "\n",
    "**version**: Whether the player was put in the control group (gate_30 - a gate at level 30) or the group with the moved gate (gate_40 - a gate at level 40).\n",
    "\n",
    "**sum_gamerounds**: the number of game rounds played by the player during the first 14 days after install.\n",
    "\n",
    "**retention_1**: Did the player come back and play 1 day after installing?\n",
    "\n",
    "**retention_7**: Did the player come back and play 7 days after installing?"
   ]
  },
  {
   "cell_type": "markdown",
   "metadata": {},
   "source": [
    "### 2.2. <a id='toc2_2_'></a>[Loading the data](#toc0_)"
   ]
  },
  {
   "cell_type": "code",
   "execution_count": 3,
   "metadata": {},
   "outputs": [
    {
     "data": {
      "text/plain": [
       "(90189, 4)"
      ]
     },
     "execution_count": 3,
     "metadata": {},
     "output_type": "execute_result"
    }
   ],
   "source": [
    "df_orig = pd.read_csv(\"../data/cookie_cats.csv\", index_col=0)\n",
    "df = df_orig\n",
    "df.shape"
   ]
  },
  {
   "cell_type": "markdown",
   "metadata": {},
   "source": [
    "The dataset consists of 90_189 rows/datapoints and 5 columns/features. The `userid` is unique and each user has only one datapoint in the dataset. We can use it as the dataframe index.\n",
    "\n",
    "\n",
    "Below we can get a quick look on the first 5 records and the columns:"
   ]
  },
  {
   "cell_type": "code",
   "execution_count": 4,
   "metadata": {},
   "outputs": [
    {
     "data": {
      "text/html": [
       "<div>\n",
       "<style scoped>\n",
       "    .dataframe tbody tr th:only-of-type {\n",
       "        vertical-align: middle;\n",
       "    }\n",
       "\n",
       "    .dataframe tbody tr th {\n",
       "        vertical-align: top;\n",
       "    }\n",
       "\n",
       "    .dataframe thead th {\n",
       "        text-align: right;\n",
       "    }\n",
       "</style>\n",
       "<table border=\"1\" class=\"dataframe\">\n",
       "  <thead>\n",
       "    <tr style=\"text-align: right;\">\n",
       "      <th></th>\n",
       "      <th>version</th>\n",
       "      <th>sum_gamerounds</th>\n",
       "      <th>retention_1</th>\n",
       "      <th>retention_7</th>\n",
       "    </tr>\n",
       "    <tr>\n",
       "      <th>userid</th>\n",
       "      <th></th>\n",
       "      <th></th>\n",
       "      <th></th>\n",
       "      <th></th>\n",
       "    </tr>\n",
       "  </thead>\n",
       "  <tbody>\n",
       "    <tr>\n",
       "      <th>116</th>\n",
       "      <td>gate_30</td>\n",
       "      <td>3</td>\n",
       "      <td>False</td>\n",
       "      <td>False</td>\n",
       "    </tr>\n",
       "    <tr>\n",
       "      <th>337</th>\n",
       "      <td>gate_30</td>\n",
       "      <td>38</td>\n",
       "      <td>True</td>\n",
       "      <td>False</td>\n",
       "    </tr>\n",
       "    <tr>\n",
       "      <th>377</th>\n",
       "      <td>gate_40</td>\n",
       "      <td>165</td>\n",
       "      <td>True</td>\n",
       "      <td>False</td>\n",
       "    </tr>\n",
       "    <tr>\n",
       "      <th>483</th>\n",
       "      <td>gate_40</td>\n",
       "      <td>1</td>\n",
       "      <td>False</td>\n",
       "      <td>False</td>\n",
       "    </tr>\n",
       "    <tr>\n",
       "      <th>488</th>\n",
       "      <td>gate_40</td>\n",
       "      <td>179</td>\n",
       "      <td>True</td>\n",
       "      <td>True</td>\n",
       "    </tr>\n",
       "  </tbody>\n",
       "</table>\n",
       "</div>"
      ],
      "text/plain": [
       "        version  sum_gamerounds  retention_1  retention_7\n",
       "userid                                                   \n",
       "116     gate_30               3        False        False\n",
       "337     gate_30              38         True        False\n",
       "377     gate_40             165         True        False\n",
       "483     gate_40               1        False        False\n",
       "488     gate_40             179         True         True"
      ]
     },
     "execution_count": 4,
     "metadata": {},
     "output_type": "execute_result"
    }
   ],
   "source": [
    "df.sort_index().head()"
   ]
  },
  {
   "cell_type": "markdown",
   "metadata": {},
   "source": [
    "## 3. <a id='toc3_'></a>[Data cleaning](#toc0_)"
   ]
  },
  {
   "cell_type": "markdown",
   "metadata": {},
   "source": [
    "Before analysing the data, the data cleansing process must deal with setting the data type, handling missing values, deduplicating samples and characteristics and identifying and processing outliers."
   ]
  },
  {
   "cell_type": "markdown",
   "metadata": {},
   "source": [
    "### 3.1. <a id='toc3_1_'></a>[Setting data types](#toc0_)"
   ]
  },
  {
   "cell_type": "code",
   "execution_count": 5,
   "metadata": {},
   "outputs": [
    {
     "name": "stdout",
     "output_type": "stream",
     "text": [
      "<class 'pandas.core.frame.DataFrame'>\n",
      "Index: 90189 entries, 116 to 9999861\n",
      "Data columns (total 4 columns):\n",
      " #   Column          Non-Null Count  Dtype \n",
      "---  ------          --------------  ----- \n",
      " 0   version         90189 non-null  object\n",
      " 1   sum_gamerounds  90189 non-null  int64 \n",
      " 2   retention_1     90189 non-null  bool  \n",
      " 3   retention_7     90189 non-null  bool  \n",
      "dtypes: bool(2), int64(1), object(1)\n",
      "memory usage: 2.2+ MB\n"
     ]
    }
   ],
   "source": [
    "df.info()"
   ]
  },
  {
   "cell_type": "markdown",
   "metadata": {},
   "source": [
    "The column *version* can be of data type `category` since they consist of a distinct list of categories (see below)."
   ]
  },
  {
   "cell_type": "code",
   "execution_count": 6,
   "metadata": {},
   "outputs": [
    {
     "name": "stdout",
     "output_type": "stream",
     "text": [
      "version\n",
      "gate_40    45489\n",
      "gate_30    44700\n",
      "Name: count, dtype: int64\n"
     ]
    }
   ],
   "source": [
    "print(df[\"version\"].value_counts())"
   ]
  },
  {
   "cell_type": "code",
   "execution_count": 7,
   "metadata": {},
   "outputs": [],
   "source": [
    "df[\"version\"] = df[\"version\"].astype(\"category\")"
   ]
  },
  {
   "cell_type": "markdown",
   "metadata": {},
   "source": [
    "### 3.2. <a id='toc3_2_'></a>[Describing the data](#toc0_)"
   ]
  },
  {
   "cell_type": "markdown",
   "metadata": {},
   "source": [
    "There are 90.189 users/players in the dataset which are roughly equally assigned to the two experiment groups:\n",
    "\n",
    "- **control group** (gate_30 - a gate at level 30):    44.700 user\n",
    "- **experiment group** (gate_40 - a gate at level 40):    45.489 user\n"
   ]
  },
  {
   "cell_type": "code",
   "execution_count": 8,
   "metadata": {},
   "outputs": [
    {
     "data": {
      "text/plain": [
       "count    90189.000000\n",
       "mean        51.872457\n",
       "std        195.050858\n",
       "min          0.000000\n",
       "25%          5.000000\n",
       "50%         16.000000\n",
       "75%         51.000000\n",
       "max      49854.000000\n",
       "Name: sum_gamerounds, dtype: float64"
      ]
     },
     "execution_count": 8,
     "metadata": {},
     "output_type": "execute_result"
    }
   ],
   "source": [
    "df[\"sum_gamerounds\"].describe()"
   ]
  },
  {
   "cell_type": "markdown",
   "metadata": {},
   "source": [
    "The total number of gamerounds played per user range from 0 to 49.854."
   ]
  },
  {
   "cell_type": "code",
   "execution_count": 9,
   "metadata": {},
   "outputs": [
    {
     "data": {
      "text/plain": [
       "retention_1\n",
       "False    50036\n",
       "True     40153\n",
       "Name: count, dtype: int64"
      ]
     },
     "execution_count": 9,
     "metadata": {},
     "output_type": "execute_result"
    }
   ],
   "source": [
    "df[\"retention_1\"].value_counts()"
   ]
  },
  {
   "cell_type": "markdown",
   "metadata": {},
   "source": [
    "40.153 player came back and played 1 day after installing."
   ]
  },
  {
   "cell_type": "code",
   "execution_count": 10,
   "metadata": {},
   "outputs": [
    {
     "data": {
      "text/plain": [
       "retention_7\n",
       "False    73408\n",
       "True     16781\n",
       "Name: count, dtype: int64"
      ]
     },
     "execution_count": 10,
     "metadata": {},
     "output_type": "execute_result"
    }
   ],
   "source": [
    "df[\"retention_7\"].value_counts()"
   ]
  },
  {
   "cell_type": "markdown",
   "metadata": {},
   "source": [
    "16.781 player came back and played 7 days after installing."
   ]
  },
  {
   "cell_type": "code",
   "execution_count": 11,
   "metadata": {},
   "outputs": [
    {
     "data": {
      "text/html": [
       "<div>\n",
       "<style scoped>\n",
       "    .dataframe tbody tr th:only-of-type {\n",
       "        vertical-align: middle;\n",
       "    }\n",
       "\n",
       "    .dataframe tbody tr th {\n",
       "        vertical-align: top;\n",
       "    }\n",
       "\n",
       "    .dataframe thead th {\n",
       "        text-align: right;\n",
       "    }\n",
       "</style>\n",
       "<table border=\"1\" class=\"dataframe\">\n",
       "  <thead>\n",
       "    <tr style=\"text-align: right;\">\n",
       "      <th>retention_7</th>\n",
       "      <th>False</th>\n",
       "      <th>True</th>\n",
       "    </tr>\n",
       "    <tr>\n",
       "      <th>retention_1</th>\n",
       "      <th></th>\n",
       "      <th></th>\n",
       "    </tr>\n",
       "  </thead>\n",
       "  <tbody>\n",
       "    <tr>\n",
       "      <th>False</th>\n",
       "      <td>46437</td>\n",
       "      <td>3599</td>\n",
       "    </tr>\n",
       "    <tr>\n",
       "      <th>True</th>\n",
       "      <td>26971</td>\n",
       "      <td>13182</td>\n",
       "    </tr>\n",
       "  </tbody>\n",
       "</table>\n",
       "</div>"
      ],
      "text/plain": [
       "retention_7  False  True \n",
       "retention_1              \n",
       "False        46437   3599\n",
       "True         26971  13182"
      ]
     },
     "execution_count": 11,
     "metadata": {},
     "output_type": "execute_result"
    }
   ],
   "source": [
    "pd.crosstab(df[\"retention_1\"], df[\"retention_7\"])"
   ]
  },
  {
   "cell_type": "markdown",
   "metadata": {},
   "source": [
    "In retention analysis, seeing a user marked as retained at 7 days but not at 1 day can happen due to data inconsistencies, measurement delays, or unexpected data recording issues. Here are some possible reasons:\n",
    "\n",
    "1. **Data Inconsistencies**: If the retention data wasn't recorded at the exact same times or if there were errors in tracking, a user might be incorrectly flagged for 7-day retention while missing the 1-day retention flag.\n",
    "  \n",
    "2. **Re-engagement**: The user might not have engaged on the first day but returned later and continued using the product up to day 7. Some tracking systems allow for this type of re-engagement.\n",
    "\n",
    "3. **Measurement Logic Differences**: There may be a gap or different criteria in how retention is recorded. For instance, if \"1-day retention\" is based on a specific action within 24 hours but \"7-day retention\" is broader, it could lead to this discrepancy.\n",
    "\n",
    "To address it, checking the criteria for each retention variable and ensuring consistency in tracking logic would help clarify these cases."
   ]
  },
  {
   "cell_type": "markdown",
   "metadata": {},
   "source": [
    "### 3.3. <a id='toc3_3_'></a>[Handling missing values](#toc0_)"
   ]
  },
  {
   "cell_type": "markdown",
   "metadata": {},
   "source": [
    "No missing values were detected (see 3.1), thus no handling is required."
   ]
  },
  {
   "cell_type": "markdown",
   "metadata": {},
   "source": [
    "### 3.4. <a id='toc3_4_'></a>[Deduplication process](#toc0_)"
   ]
  },
  {
   "cell_type": "markdown",
   "metadata": {},
   "source": [
    "Looking at the indexed `userid` values we can confirm there are no duplicates:"
   ]
  },
  {
   "cell_type": "code",
   "execution_count": 12,
   "metadata": {},
   "outputs": [
    {
     "data": {
      "text/plain": [
       "True"
      ]
     },
     "execution_count": 12,
     "metadata": {},
     "output_type": "execute_result"
    }
   ],
   "source": [
    "df.index.is_unique"
   ]
  },
  {
   "cell_type": "markdown",
   "metadata": {},
   "source": [
    "Thus, no further deduplication is required."
   ]
  },
  {
   "cell_type": "markdown",
   "metadata": {},
   "source": [
    "### 3.5. <a id='toc3_5_'></a>[Outliers: identification and handling](#toc0_)"
   ]
  },
  {
   "cell_type": "markdown",
   "metadata": {},
   "source": [
    "Identifying outliers in the data follows a three step plan:\n",
    "1) Using data visualization techniques to inspect the data’s distribution and verify the presence of outliers\n",
    "2) Using a statistical method to calculate the outlier data points\n",
    "3) Applying a statistical method to flag, drop or transform the outliers\n",
    "\n",
    "Moreover, a two-level approach is applied to check both types of outliers, *natural* and *anomalous*: the rule-based method and the statistical approach. "
   ]
  },
  {
   "cell_type": "markdown",
   "metadata": {},
   "source": [
    "#### 3.5.1. <a id='toc3_5_1_'></a>[Rule-based method](#toc0_)"
   ]
  },
  {
   "cell_type": "markdown",
   "metadata": {},
   "source": [
    "The decribed variables/columns did not reveal any unreasonable values."
   ]
  },
  {
   "cell_type": "markdown",
   "metadata": {},
   "source": [
    "#### 3.5.2. <a id='toc3_5_2_'></a>[Statistical outliers](#toc0_)"
   ]
  },
  {
   "cell_type": "markdown",
   "metadata": {},
   "source": [
    "As next, the `sum_gamerounds` feature is visualized (via boxplot and histogram) to detect possible outliers:"
   ]
  },
  {
   "cell_type": "code",
   "execution_count": 13,
   "metadata": {},
   "outputs": [
    {
     "data": {
      "image/png": "[encoded data removed]",
      "text/plain": [
       "<Figure size 640x480 with 2 Axes>"
      ]
     },
     "metadata": {},
     "output_type": "display_data"
    }
   ],
   "source": [
    "f, (ax_box, ax_hist) = plt.subplots(\n",
    "    2, sharex=True, gridspec_kw={\"height_ratios\": (0.20, 0.80)}\n",
    ")\n",
    "sns.boxplot(x=df[\"sum_gamerounds\"], ax=ax_box)\n",
    "sns.histplot(x=df[\"sum_gamerounds\"], bins=50, ax=ax_hist)\n",
    "\n",
    "ax_box.set(yticks=[])\n",
    "ax_hist.set_ylabel(\"Frequency\", labelpad=10)\n",
    "ax_hist.set_xlabel(\"gamerounds\", labelpad=10)\n",
    "ax_box.set_title(r\"Histogram plot of $\\it{gamerounds}$ (incl. box plot)\", pad=20)\n",
    "sns.despine(ax=ax_hist)\n",
    "sns.despine(ax=ax_box, left=True)\n",
    "plt.subplots_adjust(hspace=0.05)\n",
    "plt.show()"
   ]
  },
  {
   "cell_type": "markdown",
   "metadata": {},
   "source": [
    "We can see from the histogram above that there is one extreme outlier with an unusually high number of gamerounds played. We want to exclude this datapoint from the dataset, since it looks obviously as a form of data corruption:"
   ]
  },
  {
   "cell_type": "code",
   "execution_count": 14,
   "metadata": {},
   "outputs": [],
   "source": [
    "df = df[df[\"sum_gamerounds\"] <= 10000]"
   ]
  },
  {
   "cell_type": "code",
   "execution_count": 15,
   "metadata": {},
   "outputs": [
    {
     "data": {
      "image/png": "[encoded data removed]",
      "text/plain": [
       "<Figure size 640x480 with 2 Axes>"
      ]
     },
     "metadata": {},
     "output_type": "display_data"
    }
   ],
   "source": [
    "f, (ax_box, ax_hist) = plt.subplots(\n",
    "    2, sharex=True, gridspec_kw={\"height_ratios\": (0.20, 0.80)}\n",
    ")\n",
    "sns.boxplot(x=df[\"sum_gamerounds\"], ax=ax_box)\n",
    "sns.histplot(x=df[\"sum_gamerounds\"], bins=50, ax=ax_hist)\n",
    "\n",
    "ax_box.set(yticks=[])\n",
    "ax_hist.set_ylabel(\"Frequency\", labelpad=10)\n",
    "ax_hist.set_xlabel(\"gamerounds\", labelpad=10)\n",
    "ax_box.set_title(r\"Histogram plot of $\\it{gamerounds}$ (incl. box plot)\", pad=20)\n",
    "sns.despine(ax=ax_hist)\n",
    "sns.despine(ax=ax_box, left=True)\n",
    "plt.subplots_adjust(hspace=0.05)\n",
    "plt.show()"
   ]
  },
  {
   "cell_type": "markdown",
   "metadata": {},
   "source": [
    "`Gamerounds` are exponentially distributed, with a long tail to the right, which is quite typical, especially in contexts where the rounds can end at any time and are not tied to a fixed, long-term engagement. In games, players often leave or \"drop off\" randomly. The exponential distribution is common for modeling the time until an event (like stopping play), where events happen independently and randomly over time. Players tend to start out with high engagement, trying a few rounds at the beginning. As time goes on, more players stop, leaving a smaller number who continue playing for many rounds. In many games, there’s a large number of players who only play a few rounds, while a small but committed group plays many rounds, creating a long tail in the distribution. This exponential decay is frequently observed in user behavior data, such as session lengths or retention rates, as players \"churn\" or lose interest over time."
   ]
  },
  {
   "cell_type": "markdown",
   "metadata": {},
   "source": [
    "The values range from 0 to 2.961 with a median average of 16 game rounds played per user:"
   ]
  },
  {
   "cell_type": "code",
   "execution_count": 16,
   "metadata": {},
   "outputs": [
    {
     "data": {
      "text/plain": [
       "count    90188.000000\n",
       "mean        51.320253\n",
       "std        102.682719\n",
       "min          0.000000\n",
       "25%          5.000000\n",
       "50%         16.000000\n",
       "75%         51.000000\n",
       "max       2961.000000\n",
       "Name: sum_gamerounds, dtype: float64"
      ]
     },
     "execution_count": 16,
     "metadata": {},
     "output_type": "execute_result"
    }
   ],
   "source": [
    "df[\"sum_gamerounds\"].describe()"
   ]
  },
  {
   "cell_type": "markdown",
   "metadata": {},
   "source": [
    "## 4. <a id='toc4_'></a>[A/B testing](#toc0_)"
   ]
  },
  {
   "cell_type": "markdown",
   "metadata": {},
   "source": [
    "### 4.1. <a id='toc4_1_'></a>[Mission/Goal definition](#toc0_)"
   ]
  },
  {
   "cell_type": "markdown",
   "metadata": {},
   "source": [
    "Based on the dataset description, the mobile games company tries to examine on A/B test results of the game Cookie Cats what happens when the first gate in the game was moved from level 30 (control group) to level 40 (experiment group). The players are randomly assigned to either group. The description suggests rather a exploratory analysis. However, given the dependent variables in the dataset, it suggest that the company aims to monitor and probably increase the **retention rate** (the percentage of player who continue to use the mobile game over a predetermined period). Therefore the mission/goal of the A/B test is ***to determine if moving the first gate in the game to level 40 increases the user retention rates (1 day and 7 days)***."
   ]
  },
  {
   "cell_type": "markdown",
   "metadata": {},
   "source": [
    "### 4.2. <a id='toc4_2_'></a>[Metrics definition](#toc0_)"
   ]
  },
  {
   "cell_type": "markdown",
   "metadata": {},
   "source": [
    "The test can be understood as an A/B test, as it aims to compare the effect on user retention between a control (gate at level 30) and experiment group (gate at level 40). We utilize the two retention rates for 1 day and 7 days as a measure of success.\n",
    "\n",
    "The **retention rate** is the proportion of customers who continue to use a service or product over a predetermined period. We want to compare the retention rate between the control and experiment group to determine if the intervention in the experiment group has a significant impact on user retention. We do this twice, independently from each other, for the retention for 1 and for 7 days, since the intervention can have different impacts on the user retention based on the predetermined period.\n",
    "\n",
    "Therefore, the target metric for this analysis is the ***retention rate***.\n",
    "\n"
   ]
  },
  {
   "cell_type": "markdown",
   "metadata": {},
   "source": [
    "### 4.3. <a id='toc4_3_'></a>[Calculations](#toc0_)"
   ]
  },
  {
   "cell_type": "markdown",
   "metadata": {},
   "source": [
    "#### 4.3.1. <a id='toc4_3_1_'></a>[Sanity check](#toc0_)"
   ]
  },
  {
   "cell_type": "code",
   "execution_count": 17,
   "metadata": {},
   "outputs": [
    {
     "data": {
      "text/plain": [
       "version\n",
       "gate_30    44699\n",
       "gate_40    45489\n",
       "Total      90188\n",
       "Name: retention_1, dtype: int64"
      ]
     },
     "execution_count": 17,
     "metadata": {},
     "output_type": "execute_result"
    }
   ],
   "source": [
    "counts = df.groupby(\"version\", observed=False)[\"retention_1\"].count()\n",
    "counts.loc[\"Total\"] = counts.sum()\n",
    "counts"
   ]
  },
  {
   "cell_type": "markdown",
   "metadata": {},
   "source": [
    " - Sample size: The total sample size of the experiment is the sum of the two variants, thus the 90.188 observations (users/players)\n",
    " - Variant proportions: The variants of the two groups are rather equal but the experiment group is with 45.489 players slightly larger than the control group with 44.699 players. Therefore we want to do a sanity check on the population sizing metric."
   ]
  },
  {
   "cell_type": "markdown",
   "metadata": {},
   "source": [
    "The Chi-square test is widely used for Sample Ratio Mismatch (SRM)  because it works well for categorical data with expected counts across multiple groups and is straightforward when comparing observed vs. expected distributions.\n"
   ]
  },
  {
   "cell_type": "code",
   "execution_count": 18,
   "metadata": {},
   "outputs": [
    {
     "name": "stdout",
     "output_type": "stream",
     "text": [
      "Chi-square statistic: 6.9200\n",
      "P-value: 0.0085\n"
     ]
    }
   ],
   "source": [
    "observed_counts = counts.iloc[:2]\n",
    "total_players = sum(observed_counts)\n",
    "expected_counts = [total_players / 2, total_players / 2]\n",
    "\n",
    "chi2_stat, p_value = stats.chisquare(observed_counts, expected_counts)\n",
    "\n",
    "print(f\"Chi-square statistic: {chi2_stat:.04f}\")\n",
    "print(f\"P-value: {p_value:.04f}\")"
   ]
  },
  {
   "cell_type": "markdown",
   "metadata": {},
   "source": [
    "A p-value of 0.0085 indeed indicates a significant Sample Ratio Mismatch (SRM), which means that the split between the control and experiment groups likely differs more than expected from a random 50/50 distribution. This could have implications for the validity of our A/B test, as it may introduce bias or confounding factors. **Comparative statistics may be invalid as a result.**\n",
    "\n",
    "However, given the large sample size, we can likely relax the strict balance assumption. In practice, such small differences in sample size will not drastically affect the overall findings of our A/B test. Random assignment doesn't guarantee exact balance but instead aims to make the groups similar overall, so even if there is a slight imbalance, the effect of random assignment should average out. In large samples, this imbalance is less likely to introduce significant bias. Furthermore, if the sample size is large, the Law of Large Numbers ensures that the imbalances due to randomness become less important in terms of influencing the outcome.\n"
   ]
  },
  {
   "cell_type": "markdown",
   "metadata": {},
   "source": [
    "#### 4.3.2. <a id='toc4_3_2_'></a>[Retention for 1 day](#toc0_)"
   ]
  },
  {
   "cell_type": "markdown",
   "metadata": {},
   "source": [
    "##### 4.3.2.1. <a id='toc4_3_2_1_'></a>[Proportion and Confidence interval](#toc0_)"
   ]
  },
  {
   "cell_type": "code",
   "execution_count": 19,
   "metadata": {},
   "outputs": [
    {
     "data": {
      "text/html": [
       "<div>\n",
       "<style scoped>\n",
       "    .dataframe tbody tr th:only-of-type {\n",
       "        vertical-align: middle;\n",
       "    }\n",
       "\n",
       "    .dataframe tbody tr th {\n",
       "        vertical-align: top;\n",
       "    }\n",
       "\n",
       "    .dataframe thead th {\n",
       "        text-align: right;\n",
       "    }\n",
       "</style>\n",
       "<table border=\"1\" class=\"dataframe\">\n",
       "  <thead>\n",
       "    <tr style=\"text-align: right;\">\n",
       "      <th>retention_1</th>\n",
       "      <th>False</th>\n",
       "      <th>True</th>\n",
       "      <th>Total</th>\n",
       "    </tr>\n",
       "    <tr>\n",
       "      <th>version</th>\n",
       "      <th></th>\n",
       "      <th></th>\n",
       "      <th></th>\n",
       "    </tr>\n",
       "  </thead>\n",
       "  <tbody>\n",
       "    <tr>\n",
       "      <th>gate_30</th>\n",
       "      <td>24665</td>\n",
       "      <td>20034</td>\n",
       "      <td>44699</td>\n",
       "    </tr>\n",
       "    <tr>\n",
       "      <th>gate_40</th>\n",
       "      <td>25370</td>\n",
       "      <td>20119</td>\n",
       "      <td>45489</td>\n",
       "    </tr>\n",
       "    <tr>\n",
       "      <th>Total</th>\n",
       "      <td>50035</td>\n",
       "      <td>40153</td>\n",
       "      <td>90188</td>\n",
       "    </tr>\n",
       "  </tbody>\n",
       "</table>\n",
       "</div>"
      ],
      "text/plain": [
       "retention_1  False   True  Total\n",
       "version                         \n",
       "gate_30      24665  20034  44699\n",
       "gate_40      25370  20119  45489\n",
       "Total        50035  40153  90188"
      ]
     },
     "execution_count": 19,
     "metadata": {},
     "output_type": "execute_result"
    }
   ],
   "source": [
    "contingency_table_ret_1 = (\n",
    "    df.groupby(\"version\", observed=False)[\"retention_1\"]\n",
    "    .value_counts()\n",
    "    .unstack(fill_value=0)\n",
    ")\n",
    "counts = contingency_table_ret_1\n",
    "counts[\"Total\"] = counts.sum(axis=1)\n",
    "counts.loc[\"Total\"] = counts.sum()\n",
    "counts"
   ]
  },
  {
   "cell_type": "code",
   "execution_count": 20,
   "metadata": {},
   "outputs": [
    {
     "data": {
      "text/html": [
       "<div>\n",
       "<style scoped>\n",
       "    .dataframe tbody tr th:only-of-type {\n",
       "        vertical-align: middle;\n",
       "    }\n",
       "\n",
       "    .dataframe tbody tr th {\n",
       "        vertical-align: top;\n",
       "    }\n",
       "\n",
       "    .dataframe thead th {\n",
       "        text-align: right;\n",
       "    }\n",
       "</style>\n",
       "<table border=\"1\" class=\"dataframe\">\n",
       "  <thead>\n",
       "    <tr style=\"text-align: right;\">\n",
       "      <th>retention_1</th>\n",
       "      <th>False</th>\n",
       "      <th>True</th>\n",
       "    </tr>\n",
       "    <tr>\n",
       "      <th>version</th>\n",
       "      <th></th>\n",
       "      <th></th>\n",
       "    </tr>\n",
       "  </thead>\n",
       "  <tbody>\n",
       "    <tr>\n",
       "      <th>gate_30</th>\n",
       "      <td>0.551802</td>\n",
       "      <td>0.448198</td>\n",
       "    </tr>\n",
       "    <tr>\n",
       "      <th>gate_40</th>\n",
       "      <td>0.557717</td>\n",
       "      <td>0.442283</td>\n",
       "    </tr>\n",
       "    <tr>\n",
       "      <th>Total</th>\n",
       "      <td>0.554786</td>\n",
       "      <td>0.445214</td>\n",
       "    </tr>\n",
       "  </tbody>\n",
       "</table>\n",
       "</div>"
      ],
      "text/plain": [
       "retention_1     False     True \n",
       "version                        \n",
       "gate_30      0.551802  0.448198\n",
       "gate_40      0.557717  0.442283\n",
       "Total        0.554786  0.445214"
      ]
     },
     "execution_count": 20,
     "metadata": {},
     "output_type": "execute_result"
    }
   ],
   "source": [
    "proportions_ret_1 = (\n",
    "    df.groupby(\"version\", observed=False)[\"retention_1\"]\n",
    "    .value_counts(normalize=True)\n",
    "    .unstack(fill_value=0)\n",
    ")\n",
    "proportions_ret_1.loc[\"Total\"] = df[\"retention_1\"].value_counts(normalize=True)\n",
    "proportions_ret_1"
   ]
  },
  {
   "cell_type": "markdown",
   "metadata": {},
   "source": [
    "We can see from the contigency table above that the retention rate of the experiment group (gate_40) is with 44.22% in fact marginally lower than the control groups rate (44.81%)."
   ]
  },
  {
   "cell_type": "markdown",
   "metadata": {},
   "source": [
    "Since we have a large sample size and the retention rate is not extremely small or large (near 0 or 1), we can rely on the normal approximation for calculating the confidence interval:\n",
    "$$\n",
    "CI = \\hat{p} \\pm Z \\times \\sqrt{\\frac{\\hat{p}(1 - \\hat{p})}{n}}\n",
    "$$\n",
    "Where:\n",
    "- $\\hat{p}$  is the sample proportion (retention rate).\n",
    "- $Z$ is the Z-score for the desired confidence level\n",
    "- $n$ is the sample size.\n",
    "\n",
    "We chose a 95% confidence level (alpha = 5%) whose Z-score is 1.96."
   ]
  },
  {
   "cell_type": "code",
   "execution_count": 21,
   "metadata": {},
   "outputs": [
    {
     "name": "stdout",
     "output_type": "stream",
     "text": [
      "             n  successes  retention_rate        se  ci_lower  ci_upper\n",
      "version                                                                \n",
      "gate_30  44699      20034        0.448198  0.002352  0.443588  0.452808\n",
      "gate_40  45489      20119        0.442283  0.002329  0.437719  0.446847\n"
     ]
    }
   ],
   "source": [
    "retention_rate_1 = df.groupby(\"version\", observed=False)[\"retention_1\"].agg(\n",
    "    n=\"size\", successes=\"sum\"\n",
    ")\n",
    "retention_rate_1[\"retention_rate\"] = (\n",
    "    retention_rate_1[\"successes\"] / retention_rate_1[\"n\"]\n",
    ")\n",
    "Z = 1.96\n",
    "retention_rate_1[\"se\"] = np.sqrt(\n",
    "    (retention_rate_1[\"retention_rate\"] * (1 - retention_rate_1[\"retention_rate\"]))\n",
    "    / retention_rate_1[\"n\"]\n",
    ")\n",
    "retention_rate_1[\"ci_lower\"] = (\n",
    "    retention_rate_1[\"retention_rate\"] - Z * retention_rate_1[\"se\"]\n",
    ")\n",
    "retention_rate_1[\"ci_upper\"] = (\n",
    "    retention_rate_1[\"retention_rate\"] + Z * retention_rate_1[\"se\"]\n",
    ")\n",
    "print(retention_rate_1)"
   ]
  },
  {
   "cell_type": "markdown",
   "metadata": {},
   "source": [
    "We can see from the resulting boundaries of the confidence intervall (ci_lower, ci_upper) that with 95% confidence, the true population proportion for the control group is estimated to lie between 44.4% and 45.3%, while for the experiment group it is estimated to lie between 43.8% and 44.7%."
   ]
  },
  {
   "cell_type": "markdown",
   "metadata": {},
   "source": [
    "##### 4.3.2.2. <a id='toc4_3_2_2_'></a>[Hypothesis test and Effect size](#toc0_)"
   ]
  },
  {
   "cell_type": "markdown",
   "metadata": {},
   "source": [
    "To test if the difference in retention proportions between the two versions is statistically significant, a **chi-square test of independence** is used. This test assesses whether there is a significant association between the version and the retention outcome (True/False). \n",
    "\n",
    "There are a few prerequirements for the chi-square test but these are all met in this case:\n",
    "- The data should be in a frequency (count) format, often displayed in a contingency table, with each cell representing the count of observations that fall into each category combination \n",
    "- Each observation (e.g., each user’s retention status) should be independent of the others\n",
    "- Sample Size and Expected Frequencies must be sufficiently large\n",
    "- Both the grouping variable (e.g., control vs. experimental group) and the outcome variable (e.g., retained vs. not retained) should be categorical\n",
    "\n",
    "Therefore we can run the test:"
   ]
  },
  {
   "cell_type": "code",
   "execution_count": 22,
   "metadata": {},
   "outputs": [
    {
     "name": "stdout",
     "output_type": "stream",
     "text": [
      "Chi-square statistic: 3.1937\n",
      "P-value: 0.5259\n"
     ]
    }
   ],
   "source": [
    "chi2, p, _, _ = stats.chi2_contingency(contingency_table_ret_1)\n",
    "print(f\"Chi-square statistic: {chi2:.04f}\")\n",
    "print(f\"P-value: {p:.04f}\")"
   ]
  },
  {
   "cell_type": "markdown",
   "metadata": {},
   "source": [
    "As already indicated by the marginally low difference in the retention rates, the high p-value of 0.5259 does not confirm a significant difference between both groups."
   ]
  },
  {
   "cell_type": "markdown",
   "metadata": {},
   "source": [
    "#### 4.3.3. <a id='toc4_3_3_'></a>[Retention for 7 days](#toc0_)"
   ]
  },
  {
   "cell_type": "markdown",
   "metadata": {},
   "source": [
    "##### 4.3.3.1. <a id='toc4_3_3_1_'></a>[Proportion and Confidence interval](#toc0_)"
   ]
  },
  {
   "cell_type": "code",
   "execution_count": 23,
   "metadata": {},
   "outputs": [
    {
     "data": {
      "text/html": [
       "<div>\n",
       "<style scoped>\n",
       "    .dataframe tbody tr th:only-of-type {\n",
       "        vertical-align: middle;\n",
       "    }\n",
       "\n",
       "    .dataframe tbody tr th {\n",
       "        vertical-align: top;\n",
       "    }\n",
       "\n",
       "    .dataframe thead th {\n",
       "        text-align: right;\n",
       "    }\n",
       "</style>\n",
       "<table border=\"1\" class=\"dataframe\">\n",
       "  <thead>\n",
       "    <tr style=\"text-align: right;\">\n",
       "      <th>retention_7</th>\n",
       "      <th>False</th>\n",
       "      <th>True</th>\n",
       "      <th>Total</th>\n",
       "    </tr>\n",
       "    <tr>\n",
       "      <th>version</th>\n",
       "      <th></th>\n",
       "      <th></th>\n",
       "      <th></th>\n",
       "    </tr>\n",
       "  </thead>\n",
       "  <tbody>\n",
       "    <tr>\n",
       "      <th>gate_30</th>\n",
       "      <td>36198</td>\n",
       "      <td>8501</td>\n",
       "      <td>44699</td>\n",
       "    </tr>\n",
       "    <tr>\n",
       "      <th>gate_40</th>\n",
       "      <td>37210</td>\n",
       "      <td>8279</td>\n",
       "      <td>45489</td>\n",
       "    </tr>\n",
       "    <tr>\n",
       "      <th>Total</th>\n",
       "      <td>73408</td>\n",
       "      <td>16780</td>\n",
       "      <td>90188</td>\n",
       "    </tr>\n",
       "  </tbody>\n",
       "</table>\n",
       "</div>"
      ],
      "text/plain": [
       "retention_7  False   True  Total\n",
       "version                         \n",
       "gate_30      36198   8501  44699\n",
       "gate_40      37210   8279  45489\n",
       "Total        73408  16780  90188"
      ]
     },
     "execution_count": 23,
     "metadata": {},
     "output_type": "execute_result"
    }
   ],
   "source": [
    "contingency_table_ret_7 = (\n",
    "    df.groupby(\"version\", observed=False)[\"retention_7\"]\n",
    "    .value_counts()\n",
    "    .unstack(fill_value=0)\n",
    ")\n",
    "counts = contingency_table_ret_7\n",
    "counts[\"Total\"] = counts.sum(axis=1)\n",
    "counts.loc[\"Total\"] = counts.sum()\n",
    "counts"
   ]
  },
  {
   "cell_type": "markdown",
   "metadata": {},
   "source": [
    " - Both, Sample size and Variant proportions remain the same as in the analysis for the retention for 1 day"
   ]
  },
  {
   "cell_type": "code",
   "execution_count": 24,
   "metadata": {},
   "outputs": [
    {
     "data": {
      "text/html": [
       "<div>\n",
       "<style scoped>\n",
       "    .dataframe tbody tr th:only-of-type {\n",
       "        vertical-align: middle;\n",
       "    }\n",
       "\n",
       "    .dataframe tbody tr th {\n",
       "        vertical-align: top;\n",
       "    }\n",
       "\n",
       "    .dataframe thead th {\n",
       "        text-align: right;\n",
       "    }\n",
       "</style>\n",
       "<table border=\"1\" class=\"dataframe\">\n",
       "  <thead>\n",
       "    <tr style=\"text-align: right;\">\n",
       "      <th>retention_7</th>\n",
       "      <th>False</th>\n",
       "      <th>True</th>\n",
       "    </tr>\n",
       "    <tr>\n",
       "      <th>version</th>\n",
       "      <th></th>\n",
       "      <th></th>\n",
       "    </tr>\n",
       "  </thead>\n",
       "  <tbody>\n",
       "    <tr>\n",
       "      <th>gate_30</th>\n",
       "      <td>0.809817</td>\n",
       "      <td>0.190183</td>\n",
       "    </tr>\n",
       "    <tr>\n",
       "      <th>gate_40</th>\n",
       "      <td>0.818000</td>\n",
       "      <td>0.182000</td>\n",
       "    </tr>\n",
       "    <tr>\n",
       "      <th>Total</th>\n",
       "      <td>0.813944</td>\n",
       "      <td>0.186056</td>\n",
       "    </tr>\n",
       "  </tbody>\n",
       "</table>\n",
       "</div>"
      ],
      "text/plain": [
       "retention_7     False     True \n",
       "version                        \n",
       "gate_30      0.809817  0.190183\n",
       "gate_40      0.818000  0.182000\n",
       "Total        0.813944  0.186056"
      ]
     },
     "execution_count": 24,
     "metadata": {},
     "output_type": "execute_result"
    }
   ],
   "source": [
    "proportions_ret_7 = (\n",
    "    df.groupby(\"version\", observed=False)[\"retention_7\"]\n",
    "    .value_counts(normalize=True)\n",
    "    .unstack(fill_value=0)\n",
    ")\n",
    "proportions_ret_7.loc[\"Total\"] = df[\"retention_7\"].value_counts(normalize=True)\n",
    "proportions_ret_7"
   ]
  },
  {
   "cell_type": "markdown",
   "metadata": {},
   "source": [
    "We can see from the contigency table above that the retention rate of the experiment group (gate_40) is with 18.20% in fact lower than the control groups rate (19.02%), by 0.8 percent points."
   ]
  },
  {
   "cell_type": "markdown",
   "metadata": {},
   "source": [
    "Since we have a large sample size and the retention rate is not extremely small or large (near 0 or 1), we can rely on the normal approximation for calculating the confidence interval:\n",
    "$$\n",
    "CI = \\hat{p} \\pm Z \\times \\sqrt{\\frac{\\hat{p}(1 - \\hat{p})}{n}}\n",
    "$$\n",
    "Where:\n",
    "- $\\hat{p}$  is the sample proportion (retention rate).\n",
    "- $Z$ is the Z-score for the desired confidence level\n",
    "- $n$ is the sample size.\n",
    "\n",
    "We chose a 95% confidence level (alpha = 5%) whose Z-score is 1.96."
   ]
  },
  {
   "cell_type": "code",
   "execution_count": 25,
   "metadata": {},
   "outputs": [
    {
     "data": {
      "text/html": [
       "<div>\n",
       "<style scoped>\n",
       "    .dataframe tbody tr th:only-of-type {\n",
       "        vertical-align: middle;\n",
       "    }\n",
       "\n",
       "    .dataframe tbody tr th {\n",
       "        vertical-align: top;\n",
       "    }\n",
       "\n",
       "    .dataframe thead th {\n",
       "        text-align: right;\n",
       "    }\n",
       "</style>\n",
       "<table border=\"1\" class=\"dataframe\">\n",
       "  <thead>\n",
       "    <tr style=\"text-align: right;\">\n",
       "      <th></th>\n",
       "      <th>n</th>\n",
       "      <th>successes</th>\n",
       "      <th>retention_rate</th>\n",
       "      <th>se</th>\n",
       "      <th>ci_lower</th>\n",
       "      <th>ci_upper</th>\n",
       "    </tr>\n",
       "    <tr>\n",
       "      <th>version</th>\n",
       "      <th></th>\n",
       "      <th></th>\n",
       "      <th></th>\n",
       "      <th></th>\n",
       "      <th></th>\n",
       "      <th></th>\n",
       "    </tr>\n",
       "  </thead>\n",
       "  <tbody>\n",
       "    <tr>\n",
       "      <th>gate_30</th>\n",
       "      <td>44699</td>\n",
       "      <td>8501</td>\n",
       "      <td>0.190183</td>\n",
       "      <td>0.001856</td>\n",
       "      <td>0.186545</td>\n",
       "      <td>0.193821</td>\n",
       "    </tr>\n",
       "    <tr>\n",
       "      <th>gate_40</th>\n",
       "      <td>45489</td>\n",
       "      <td>8279</td>\n",
       "      <td>0.182000</td>\n",
       "      <td>0.001809</td>\n",
       "      <td>0.178454</td>\n",
       "      <td>0.185546</td>\n",
       "    </tr>\n",
       "  </tbody>\n",
       "</table>\n",
       "</div>"
      ],
      "text/plain": [
       "             n  successes  retention_rate        se  ci_lower  ci_upper\n",
       "version                                                                \n",
       "gate_30  44699       8501        0.190183  0.001856  0.186545  0.193821\n",
       "gate_40  45489       8279        0.182000  0.001809  0.178454  0.185546"
      ]
     },
     "execution_count": 25,
     "metadata": {},
     "output_type": "execute_result"
    }
   ],
   "source": [
    "retention_rate_7 = df.groupby(\"version\", observed=False)[\"retention_7\"].agg(\n",
    "    n=\"size\", successes=\"sum\"\n",
    ")\n",
    "retention_rate_7[\"retention_rate\"] = (\n",
    "    retention_rate_7[\"successes\"] / retention_rate_7[\"n\"]\n",
    ")\n",
    "Z = 1.96\n",
    "retention_rate_7[\"se\"] = np.sqrt(\n",
    "    (retention_rate_7[\"retention_rate\"] * (1 - retention_rate_7[\"retention_rate\"]))\n",
    "    / retention_rate_7[\"n\"]\n",
    ")\n",
    "retention_rate_7[\"ci_lower\"] = (\n",
    "    retention_rate_7[\"retention_rate\"] - Z * retention_rate_7[\"se\"]\n",
    ")\n",
    "retention_rate_7[\"ci_upper\"] = (\n",
    "    retention_rate_7[\"retention_rate\"] + Z * retention_rate_7[\"se\"]\n",
    ")\n",
    "retention_rate_7"
   ]
  },
  {
   "cell_type": "markdown",
   "metadata": {},
   "source": [
    "We can see from the resulting boundaries of the confidence intervall (ci_lower, ci_upper) that with 95% confidence, the true population proportion for the control group is estimated to lie between 18.7% and 19.4%, while for the experiment group it is estimated to lie between 17.8% and 18.6%."
   ]
  },
  {
   "cell_type": "markdown",
   "metadata": {},
   "source": [
    "##### 4.3.3.2. <a id='toc4_3_3_2_'></a>[Additional task: Bootstrap Confidence interval](#toc0_)"
   ]
  },
  {
   "cell_type": "markdown",
   "metadata": {},
   "source": [
    "As an additional task we should compute the confidence interval both analytically (see above) and using bootstrap. The latter we will do now.\n",
    "\n",
    "Please note that it's valid to calculate the mean of a binary variable to get the retention proportion. `retention_7` is a binary variable indicating whether a user was retained (True) or not (False), then calculating the mean will give the proportion of users retained within each group. This is valid because True can be treated as 1 and False as 0, so the mean will represent the retention rate directly.\n"
   ]
  },
  {
   "cell_type": "code",
   "execution_count": 26,
   "metadata": {},
   "outputs": [
    {
     "data": {
      "text/html": [
       "<div>\n",
       "<style scoped>\n",
       "    .dataframe tbody tr th:only-of-type {\n",
       "        vertical-align: middle;\n",
       "    }\n",
       "\n",
       "    .dataframe tbody tr th {\n",
       "        vertical-align: top;\n",
       "    }\n",
       "\n",
       "    .dataframe thead th {\n",
       "        text-align: right;\n",
       "    }\n",
       "</style>\n",
       "<table border=\"1\" class=\"dataframe\">\n",
       "  <thead>\n",
       "    <tr style=\"text-align: right;\">\n",
       "      <th></th>\n",
       "      <th>n</th>\n",
       "      <th>successes</th>\n",
       "      <th>retention_rate</th>\n",
       "      <th>se</th>\n",
       "      <th>ci_lower</th>\n",
       "      <th>ci_upper</th>\n",
       "      <th>boot_ci_lower</th>\n",
       "      <th>boot_ci_upper</th>\n",
       "    </tr>\n",
       "    <tr>\n",
       "      <th>version</th>\n",
       "      <th></th>\n",
       "      <th></th>\n",
       "      <th></th>\n",
       "      <th></th>\n",
       "      <th></th>\n",
       "      <th></th>\n",
       "      <th></th>\n",
       "      <th></th>\n",
       "    </tr>\n",
       "  </thead>\n",
       "  <tbody>\n",
       "    <tr>\n",
       "      <th>gate_30</th>\n",
       "      <td>44699</td>\n",
       "      <td>8501</td>\n",
       "      <td>0.190183</td>\n",
       "      <td>0.001856</td>\n",
       "      <td>0.186545</td>\n",
       "      <td>0.193821</td>\n",
       "      <td>0.186737</td>\n",
       "      <td>0.194098</td>\n",
       "    </tr>\n",
       "    <tr>\n",
       "      <th>gate_40</th>\n",
       "      <td>45489</td>\n",
       "      <td>8279</td>\n",
       "      <td>0.182000</td>\n",
       "      <td>0.001809</td>\n",
       "      <td>0.178454</td>\n",
       "      <td>0.185546</td>\n",
       "      <td>0.178306</td>\n",
       "      <td>0.185387</td>\n",
       "    </tr>\n",
       "  </tbody>\n",
       "</table>\n",
       "</div>"
      ],
      "text/plain": [
       "             n  successes  retention_rate        se  ci_lower  ci_upper  \\\n",
       "version                                                                   \n",
       "gate_30  44699       8501        0.190183  0.001856  0.186545  0.193821   \n",
       "gate_40  45489       8279        0.182000  0.001809  0.178454  0.185546   \n",
       "\n",
       "         boot_ci_lower  boot_ci_upper  \n",
       "version                                \n",
       "gate_30       0.186737       0.194098  \n",
       "gate_40       0.178306       0.185387  "
      ]
     },
     "execution_count": 26,
     "metadata": {},
     "output_type": "execute_result"
    }
   ],
   "source": [
    "sys.path.append(os.path.abspath(\"..\"))\n",
    "from custom_modules.bootstrapping import bootstrap_mean\n",
    "\n",
    "alpha = 0.05\n",
    "\n",
    "results = df.groupby(\"version\", observed=False)[\"retention_7\"].agg(\n",
    "    n=\"size\", successes=\"sum\"\n",
    ")\n",
    "\n",
    "results[\"retention_rate\"] = results[\"successes\"] / results[\"n\"]\n",
    "\n",
    "boot_ci_lower = []\n",
    "boot_ci_upper = []\n",
    "\n",
    "for version in results.index:\n",
    "    group_data = df[df[\"version\"] == version]\n",
    "    bstrap_means = bootstrap_mean(group_data, \"retention_7\", 1000)\n",
    "    lower_bound = np.percentile(bstrap_means, 100 * (alpha / 2))\n",
    "    upper_bound = np.percentile(bstrap_means, 100 * (1 - alpha / 2))\n",
    "    boot_ci_lower.append(lower_bound)\n",
    "    boot_ci_upper.append(upper_bound)\n",
    "\n",
    "retention_rate_7[\"boot_ci_lower\"] = boot_ci_lower\n",
    "retention_rate_7[\"boot_ci_upper\"] = boot_ci_upper\n",
    "\n",
    "retention_rate_7"
   ]
  },
  {
   "cell_type": "markdown",
   "metadata": {},
   "source": [
    "We can see above that the lower and upper boundaries of the bootstrapped confidence intervall (boot_ci_lower, boot_ci_upper) follow similiarly the analytically derived confidence intervals."
   ]
  },
  {
   "cell_type": "markdown",
   "metadata": {},
   "source": [
    "##### 4.3.3.3. <a id='toc4_3_3_3_'></a>[Hypothesis test and Effect size](#toc0_)"
   ]
  },
  {
   "cell_type": "markdown",
   "metadata": {},
   "source": [
    "To test if the difference in retention proportions between the two versions is statistically significant, a **chi-square test of independence** is again used:"
   ]
  },
  {
   "cell_type": "code",
   "execution_count": 27,
   "metadata": {},
   "outputs": [
    {
     "name": "stdout",
     "output_type": "stream",
     "text": [
      "Chi-square statistic: 9.9692\n",
      "P-value: 0.0409\n"
     ]
    }
   ],
   "source": [
    "chi2_stat, p_val, dof, expected = stats.chi2_contingency(contingency_table_ret_7)\n",
    "print(f\"Chi-square statistic: {chi2_stat:.04f}\")\n",
    "print(f\"P-value: {p_val:.04f}\")"
   ]
  },
  {
   "cell_type": "markdown",
   "metadata": {},
   "source": [
    "The p-value of 0.04 means we can reject the null hypothesis, which states that there is no difference in retention rates between the groups. This suggests that the differences observed in retention rates are unlikely to be due to random chance."
   ]
  },
  {
   "cell_type": "markdown",
   "metadata": {},
   "source": [
    "It might be helpful to understand the **effect size** to quantify the strength of the association between the groups and retention rates, providing additional insight into the significance of our finding. We can use the Cramér's V to calculate the strength of the association between the categorical variables:"
   ]
  },
  {
   "cell_type": "code",
   "execution_count": 28,
   "metadata": {},
   "outputs": [
    {
     "name": "stdout",
     "output_type": "stream",
     "text": [
      "Cramér's V: 0.0037\n"
     ]
    }
   ],
   "source": [
    "n = contingency_table_ret_7.sum().sum()\n",
    "k = contingency_table_ret_7.shape[1]\n",
    "r = contingency_table_ret_7.shape[0]\n",
    "cramers_v = np.sqrt(chi2_stat / (n * min(k - 1, r - 1)))\n",
    "print(f\"Cramér's V: {cramers_v:.4f}\")"
   ]
  },
  {
   "cell_type": "markdown",
   "metadata": {},
   "source": [
    "The interpretation of the effect size (strength) of the association is broadly discussed in the [scientific community](https://academic.oup.com/innovateage/article/3/4/igz036/5560156). \n",
    "\n",
    "A widely applied conservative interpration follows Cohen (1988) and should apply here too:\n",
    "\n",
    "    +/- 0.20   Small effect / Weak association\n",
    "    +/- 0.50   Medium effect / Moderate association    \n",
    "    +/- 0.80   Large effect / Strong association\n"
   ]
  },
  {
   "cell_type": "markdown",
   "metadata": {},
   "source": [
    "Our effect size is with 0.0037 very small. This reflects the small difference of only 0.8 percent points."
   ]
  },
  {
   "cell_type": "markdown",
   "metadata": {},
   "source": [
    "### 4.4. <a id='toc4_4_'></a>[Results and Decisions](#toc0_)"
   ]
  },
  {
   "cell_type": "markdown",
   "metadata": {},
   "source": [
    "The sanity check for the population sizing metric failed, indicating a Sample Ratio Mismatch. Consequently, **any subsequent comparative statistics may be invalid (!)** due to potential unknown biases or confounding variables."
   ]
  },
  {
   "cell_type": "markdown",
   "metadata": {},
   "source": [
    "The results of the **Day 1 retention rate** did not indicate a statistically significant difference in retention rates between the control and experimental groups. The experimental group had a lower Day 1 retention rate at 44.23%, suggesting it was less successful in retaining users compared to the control group (see below). But this could not be statistically confirmed."
   ]
  },
  {
   "cell_type": "code",
   "execution_count": 29,
   "metadata": {},
   "outputs": [
    {
     "data": {
      "image/png": "[encoded data removed]",
      "text/plain": [
       "<Figure size 500x200 with 1 Axes>"
      ]
     },
     "metadata": {},
     "output_type": "display_data"
    }
   ],
   "source": [
    "sys.path.append(os.path.abspath(\"..\"))\n",
    "from custom_modules.plot_formatting import horizontal_bars_estimates_ci\n",
    "\n",
    "plt.figure(figsize=(5, 2))\n",
    "sns.barplot(\n",
    "    x=\"retention_rate\",\n",
    "    y=\"version\",\n",
    "    data=retention_rate_1,\n",
    "    alpha=0.7,\n",
    "    palette=[\"lightsteelblue\", \"cornflowerblue\"],\n",
    ")\n",
    "\n",
    "horizontal_bars_estimates_ci(retention_rate_1, \"retention_rate\")\n",
    "\n",
    "plt.title(\"Retention Rates for 1 Day (incl. Confidence Intervals)\")\n",
    "for spine in plt.gca().spines.values():\n",
    "    spine.set_visible(False)\n",
    "plt.xlabel(\"\")\n",
    "plt.xticks([])\n",
    "plt.xlim(0, 0.6)\n",
    "plt.tight_layout()\n",
    "plt.show()"
   ]
  },
  {
   "cell_type": "markdown",
   "metadata": {},
   "source": [
    "In contrast, the results of the **Day 7 retention rate** indicate a statistically significant difference in retention rates between the control and experimental groups. The experimental group had a significantly lower Day 7 retention rate at only 18.20%, suggesting it was less successful in retaining users compared to the control group (see below). However, the minimal effect size suggests that this difference of 0.8 percentage points lacks practical significance."
   ]
  },
  {
   "cell_type": "code",
   "execution_count": 30,
   "metadata": {},
   "outputs": [
    {
     "data": {
      "image/png": "[encoded data removed]",
      "text/plain": [
       "<Figure size 600x300 with 1 Axes>"
      ]
     },
     "metadata": {},
     "output_type": "display_data"
    }
   ],
   "source": [
    "sys.path.append(os.path.abspath(\"..\"))\n",
    "from custom_modules.plot_formatting import horizontal_bars_estimates_2cis\n",
    "\n",
    "plt.figure(figsize=(6, 3))\n",
    "sns.barplot(\n",
    "    x=\"retention_rate\",\n",
    "    y=\"version\",\n",
    "    data=retention_rate_7,\n",
    "    alpha=0.7,\n",
    "    palette=[\"lightsteelblue\", \"cornflowerblue\"],\n",
    ")\n",
    "\n",
    "horizontal_bars_estimates_2cis(retention_rate_7, \"retention_rate\")\n",
    "\n",
    "plt.title(\"Retention Rates for 7 Days (incl. Confidence Intervals)\")\n",
    "plt.legend(loc=\"center\", bbox_to_anchor=(0.5, -0.1), ncol=2)\n",
    "for spine in plt.gca().spines.values():\n",
    "    spine.set_visible(False)\n",
    "plt.xlabel(\"\")\n",
    "plt.xticks([])\n",
    "plt.xlim(0, 0.4)\n",
    "plt.tight_layout()\n",
    "plt.show()"
   ]
  },
  {
   "cell_type": "markdown",
   "metadata": {},
   "source": [
    "*Additional task:* From the plot above we can also see that both, the analytical and bootstrapped approach of calculating the Confidence interval come to a very similar result."
   ]
  },
  {
   "cell_type": "markdown",
   "metadata": {},
   "source": [
    "Due to the failed sanity check, we are unable to provide data-driven decision recommendations."
   ]
  }
 ],
 "metadata": {
  "kernelspec": {
   "display_name": "ab_test_venv",
   "language": "python",
   "name": "python3"
  },
  "language_info": {
   "codemirror_mode": {
    "name": "ipython",
    "version": 3
   },
   "file_extension": ".py",
   "mimetype": "text/x-python",
   "name": "python",
   "nbconvert_exporter": "python",
   "pygments_lexer": "ipython3",
   "version": "3.12.4"
  }
 },
 "nbformat": 4,
 "nbformat_minor": 2
}
